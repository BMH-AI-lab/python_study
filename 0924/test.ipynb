{
 "cells": [
  {
   "cell_type": "markdown",
   "id": "5a84e7f4",
   "metadata": {},
   "source": []
  },
  {
   "cell_type": "code",
   "execution_count": 1,
   "id": "bfafcd33",
   "metadata": {},
   "outputs": [
    {
     "name": "stdout",
     "output_type": "stream",
     "text": [
      "[151.28688142 109.46868036  98.02659741 100.21773102  82.32701147\n",
      "  79.43794503]\n"
     ]
    }
   ],
   "source": [
    "import numpy as np\n",
    "\n",
    "number = np.random.normal(100, 20, size = 6)\n",
    "print(number)"
   ]
  },
  {
   "cell_type": "code",
   "execution_count": 2,
   "id": "ca9c87f3",
   "metadata": {},
   "outputs": [
    {
     "name": "stdout",
     "output_type": "stream",
     "text": [
      "[[-0.7131388   0.05965794  0.54512202]\n",
      " [-2.2330471  -1.11597747  0.9520469 ]]\n"
     ]
    }
   ],
   "source": [
    "import numpy as np\n",
    "print(np.random.randn(2, 3))"
   ]
  },
  {
   "cell_type": "code",
   "execution_count": 3,
   "id": "311da5d0",
   "metadata": {},
   "outputs": [
    {
     "name": "stdout",
     "output_type": "stream",
     "text": [
      "[ 0  2  4  6  8 10 12 14 16 18 20]\n"
     ]
    }
   ],
   "source": [
    "\n",
    "print(np.arange(0, 22, 2))"
   ]
  },
  {
   "cell_type": "code",
   "execution_count": 4,
   "id": "de011fae",
   "metadata": {},
   "outputs": [
    {
     "name": "stdout",
     "output_type": "stream",
     "text": [
      "[[5 5 5 5]\n",
      " [5 5 5 5]\n",
      " [5 5 5 5]]\n"
     ]
    }
   ],
   "source": [
    "import numpy as np\n",
    "print(np.full((3, 4), 5))"
   ]
  },
  {
   "cell_type": "code",
   "execution_count": 5,
   "id": "49fcfda7",
   "metadata": {},
   "outputs": [
    {
     "name": "stdout",
     "output_type": "stream",
     "text": [
      "[[ 1  2  3  4  5]\n",
      " [ 6  7  8  9 10]\n",
      " [11 12 13 14 15]\n",
      " [16 17 18 19 20]]\n"
     ]
    }
   ],
   "source": [
    "import numpy as np\n",
    "\n",
    "number = np.resize(np.arange(1, 21), (4, 5))\n",
    "print(number)"
   ]
  },
  {
   "cell_type": "code",
   "execution_count": 6,
   "id": "2e3333cd",
   "metadata": {},
   "outputs": [
    {
     "name": "stdout",
     "output_type": "stream",
     "text": [
      "[[0.98131682 0.49328831 0.85261272 0.89036705]\n",
      " [0.47670731 0.04167962 0.78137676 0.56423595]\n",
      " [0.27950535 0.01196782 0.79003824 0.05107639]]\n"
     ]
    }
   ],
   "source": [
    "import numpy as np\n",
    "\n",
    "number = np.random.uniform(0, 1, size=(3, 4))\n",
    "print(number)"
   ]
  },
  {
   "cell_type": "code",
   "execution_count": 7,
   "id": "38b047a8",
   "metadata": {},
   "outputs": [
    {
     "name": "stdout",
     "output_type": "stream",
     "text": [
      "[[57. 32. 89. 15. 54. 83. 67. 47. 76. 56.]\n",
      " [89. 57. 10.  5. 85. 79. 30. 22. 99. 70.]\n",
      " [38. 69. 22. 94. 44. 56.  1. 37. 44. 92.]\n",
      " [58. 73.  4. 34. 61. 56. 32.  5. 41. 43.]\n",
      " [66. 90. 34. 25. 56. 78.  5. 33. 21. 65.]\n",
      " [35. 17. 38. 95. 55. 41. 54. 72. 47. 31.]\n",
      " [ 6.  6. 90. 38. 16. 90. 15. 13. 65. 64.]\n",
      " [24. 93. 85. 30. 30. 15. 51. 87.  9. 54.]\n",
      " [93. 78. 60. 20. 41. 67. 27. 48. 86. 38.]\n",
      " [70. 74. 32. 45. 24. 89. 80.  6. 31. 31.]]\n"
     ]
    }
   ],
   "source": [
    "import numpy as np\n",
    "\n",
    "number = np.random.randint(0, 100, (10, 10))\n",
    "a = np.eye(10)\n",
    "result = number + a\n",
    "print(result)"
   ]
  },
  {
   "cell_type": "code",
   "execution_count": 8,
   "id": "4737d778",
   "metadata": {},
   "outputs": [
    {
     "name": "stdout",
     "output_type": "stream",
     "text": [
      "[[[6 7 3 7]\n",
      "  [8 1 6 5]\n",
      "  [3 6 2 8]]\n",
      "\n",
      " [[2 7 2 7]\n",
      "  [9 8 5 6]\n",
      "  [1 4 8 0]]]\n"
     ]
    }
   ],
   "source": [
    "import numpy as np\n",
    "\n",
    "number = np.random.randint(0, 10, (2, 3, 4))\n",
    "print(number)"
   ]
  },
  {
   "cell_type": "code",
   "execution_count": 9,
   "id": "62a6f747",
   "metadata": {},
   "outputs": [
    {
     "name": "stdout",
     "output_type": "stream",
     "text": [
      "[12 16 20]\n"
     ]
    }
   ],
   "source": [
    "import numpy as np\n",
    "\n",
    "arr = np.arange(10, 30, 2) \n",
    "print(arr[[1, 3, 5]])"
   ]
  },
  {
   "cell_type": "code",
   "execution_count": 10,
   "id": "b320982f",
   "metadata": {},
   "outputs": [
    {
     "name": "stdout",
     "output_type": "stream",
     "text": [
      "[1 5 9]\n"
     ]
    }
   ],
   "source": [
    "import numpy as np\n",
    "arr = np.arange(1, 10).reshape(3, 3)\n",
    "arr2 = np.array(arr)\n",
    "arr3 = [arr2[0, 0], arr2[1, 1], arr2[2, 2]]\n",
    "print(f\"[{' '.join(map(str, arr3))}]\")"
   ]
  },
  {
   "cell_type": "code",
   "execution_count": 11,
   "id": "60d66d95",
   "metadata": {},
   "outputs": [
    {
     "ename": "IndexError",
     "evalue": "index 2 is out of bounds for axis 0 with size 2",
     "output_type": "error",
     "traceback": [
      "\u001b[1;31m---------------------------------------------------------------------------\u001b[0m",
      "\u001b[1;31mIndexError\u001b[0m                                Traceback (most recent call last)",
      "Cell \u001b[1;32mIn[11], line 5\u001b[0m\n\u001b[0;32m      3\u001b[0m arr2 \u001b[38;5;241m=\u001b[39m np\u001b[38;5;241m.\u001b[39marray(arr)\n\u001b[0;32m      4\u001b[0m sub_arr \u001b[38;5;241m=\u001b[39m arr2[:\u001b[38;5;241m2\u001b[39m:, \u001b[38;5;241m1\u001b[39m:]\n\u001b[1;32m----> 5\u001b[0m sub_arr[\u001b[38;5;241m2\u001b[39m] \u001b[38;5;241m=\u001b[39m \u001b[38;5;124m\"\u001b[39m\u001b[38;5;124m-1\u001b[39m\u001b[38;5;124m\"\u001b[39m\n\u001b[0;32m      6\u001b[0m \u001b[38;5;28mprint\u001b[39m(arr2)\n",
      "\u001b[1;31mIndexError\u001b[0m: index 2 is out of bounds for axis 0 with size 2"
     ]
    }
   ],
   "source": [
    "import numpy as np\n",
    "arr = np.arange(1, 13).reshape(3, 4)\n",
    "arr2 = np.array(arr)\n",
    "sub_arr = arr2[:2:, 1:]\n",
    "sub_arr[2] = \"-1\"\n",
    "print(arr2)"
   ]
  }
 ],
 "metadata": {
  "kernelspec": {
   "display_name": "base",
   "language": "python",
   "name": "python3"
  },
  "language_info": {
   "codemirror_mode": {
    "name": "ipython",
    "version": 3
   },
   "file_extension": ".py",
   "mimetype": "text/x-python",
   "name": "python",
   "nbconvert_exporter": "python",
   "pygments_lexer": "ipython3",
   "version": "3.12.7"
  }
 },
 "nbformat": 4,
 "nbformat_minor": 5
}
