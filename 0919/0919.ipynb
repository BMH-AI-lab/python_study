{
 "cells": [
  {
   "cell_type": "markdown",
   "id": "c91f0264",
   "metadata": {},
   "source": [
    "# ======= 중첩함수 ======= "
   ]
  },
  {
   "cell_type": "markdown",
   "id": "d05f55af",
   "metadata": {},
   "source": [
    "+ 함수의 범위 \n",
    "    + 변수가 살아있는 (접근 가능한)영역을 범위(Scope)라고 합니다. \n",
    "    + 집 = 전역범위 \n",
    "    + 방 = 지역범위 \n",
    "    + 방안의 물건은 그 방에만 사용 가능 \n",
    "    + 거실의 물건은 모든 방에 사용 가능 "
   ]
  },
  {
   "cell_type": "markdown",
   "id": "09487d50",
   "metadata": {},
   "source": [
    "# ==== 재귀 함수 ====\n",
    "+ 자기 자신을 호출하는 함수 \n",
    "+ 예) 팩토리얼 계산, 피보나치 수열 "
   ]
  },
  {
   "cell_type": "code",
   "execution_count": null,
   "id": "155674f4",
   "metadata": {},
   "outputs": [
    {
     "data": {
      "text/plain": [
       "120"
      ]
     },
     "execution_count": 25,
     "metadata": {},
     "output_type": "execute_result"
    }
   ],
   "source": [
    "def factorial(n):\n",
    "    if n <= 1:\n",
    "        return 1\n",
    "    return n * factorial(n - 1)\n",
    "factorial(5)\n",
    "# 5 x fatorial(4)\n",
    "# 5 x 4 x fatorial(3) x fatotial(2) x fatorial(1)\n",
    "# 5 x 4 x 3 x fatotial(2) x fatorial(1)\n",
    "# 5 x 4 x 3 x 2 x fatorial(1)\n",
    "# 5 x 4 x 3 x 2 x 1\n",
    "\n"
   ]
  },
  {
   "cell_type": "code",
   "execution_count": 47,
   "id": "bdc64764",
   "metadata": {},
   "outputs": [
    {
     "name": "stdout",
     "output_type": "stream",
     "text": [
      "0 1 1 2 3 5 8 13 21 34 "
     ]
    },
    {
     "data": {
      "text/plain": [
       "1"
      ]
     },
     "execution_count": 47,
     "metadata": {},
     "output_type": "execute_result"
    }
   ],
   "source": [
    "# 피보타치 수열 \n",
    "# 0 1 1 2 3 5 8 13 ...\n",
    "def fibonacci(n):\n",
    "    if n <= 1:\n",
    "        return n\n",
    "    return fibonacci(n-2) + fibonacci(n-1)\n",
    "\n",
    "for i in range(10):\n",
    "    print(fibonacci(i), end=\" \")\n",
    "\n",
    "fibonacci(2)    \n"
   ]
  },
  {
   "cell_type": "code",
   "execution_count": 15,
   "id": "42a82c6e",
   "metadata": {},
   "outputs": [
    {
     "name": "stdout",
     "output_type": "stream",
     "text": [
      "전역변수\n",
      "지역변수\n",
      "전역변수\n"
     ]
    }
   ],
   "source": [
    "# 전역변수 \n",
    "global_var = \"전역변수\"\n",
    "\n",
    "def my_fun():\n",
    "    local_var = '지역변수'\n",
    "\n",
    "    print(global_var)\n",
    "    print(local_var)\n",
    "my_fun()\n",
    "print(global_var)\n",
    "# print(local_var) \n",
    "\n",
    "# global 키워드 \n",
    "# 함수 안에서 전역변수를 수정할려면 global 키워드를 사용\n",
    "\n",
    "count = 0\n",
    "# def increment_wrong():\n",
    "\n",
    "def increment_right():\n",
    "    global count\n",
    "    count = count + 1\n",
    "\n",
    "increment_wrong()"
   ]
  },
  {
   "cell_type": "code",
   "execution_count": 10,
   "id": "2660467e",
   "metadata": {},
   "outputs": [
    {
     "name": "stdout",
     "output_type": "stream",
     "text": [
      "count 11\n",
      "10\n"
     ]
    }
   ],
   "source": [
    "a= 10\n",
    "\n",
    "def count_print(a):\n",
    "    a+= 1\n",
    "    print(\"count\", a)\n",
    "    return a\n",
    "count_print(a=count)\n",
    "print(count)"
   ]
  },
  {
   "cell_type": "code",
   "execution_count": 13,
   "id": "cbde0812",
   "metadata": {},
   "outputs": [
    {
     "name": "stdout",
     "output_type": "stream",
     "text": [
      "[inner] a: 15\n",
      "[outer] a: 15\n"
     ]
    }
   ],
   "source": [
    "def outer():\n",
    "    a = 10\n",
    "    def inner():\n",
    "        nonlocal a\n",
    "        a += 5\n",
    "        print(f\"[inner] a: {a}\") # 15\n",
    "    inner()\n",
    "    print(f\"[outer] a: {a}\") # 15\n",
    "outer()\n"
   ]
  },
  {
   "cell_type": "code",
   "execution_count": 17,
   "id": "8210b6a4",
   "metadata": {},
   "outputs": [
    {
     "name": "stdout",
     "output_type": "stream",
     "text": [
      "Ian님 로그인 성공\n",
      "이미 로그인이 되어있습니다.\n",
      "Ian님 로그인 성공\n",
      "CodingOwl님 로그인 성공\n",
      "CodingOwl\n"
     ]
    }
   ],
   "source": [
    "current_user = None #로그아웃 상태 \n",
    "\n",
    "def login(name):\n",
    "    global current_user\n",
    "    if current_user is not None:\n",
    "        print(\"이미 로그인이 되어있습니다.\")\n",
    "    else:\n",
    "        current_user = name\n",
    "        print(f\"{name}님 로그인 성공\")\n",
    "\n",
    "def logout():\n",
    "    global current_user\n",
    "    if current_user is None:\n",
    "        print(\"로그인이 되어있지 않습니다.\")\n",
    "    else:\n",
    "        print(f\"{current_user}님 로그인 성공\")\n",
    "        current_user = None\n",
    "        \n",
    "login(\"Ian\")\n",
    "login(\"CodingOwl\")\n",
    "logout()\n",
    "login(\"CodingOwl\")\n",
    "print(current_user)"
   ]
  },
  {
   "cell_type": "code",
   "execution_count": 21,
   "id": "8336f3a1",
   "metadata": {},
   "outputs": [],
   "source": [
    "def count_num(n):\n",
    "    if f == 0:\n",
    "        return \n",
    "    print(\"재귀호출\")\n",
    "    count_num(n-1)"
   ]
  },
  {
   "cell_type": "code",
   "execution_count": 48,
   "id": "be0e319f",
   "metadata": {},
   "outputs": [],
   "source": [
    "def add(x, y):\n",
    "    return x + y\n",
    "add_lamda = lambda x, y: x + y"
   ]
  },
  {
   "cell_type": "code",
   "execution_count": 52,
   "id": "77cebded",
   "metadata": {},
   "outputs": [
    {
     "name": "stdout",
     "output_type": "stream",
     "text": [
      "25\n"
     ]
    }
   ],
   "source": [
    "#람다는 이름없는 한줄짜리 간단 함수 \n",
    "print((lambda x: x**2)(5))"
   ]
  },
  {
   "cell_type": "code",
   "execution_count": null,
   "id": "fe4e2928",
   "metadata": {},
   "outputs": [
    {
     "name": "stdout",
     "output_type": "stream",
     "text": [
      "square 5:  25\n",
      "square 5:  25\n",
      "8\n"
     ]
    }
   ],
   "source": [
    "def square(x):\n",
    "    return x ** 2\n",
    "\n",
    "def square_lambda(x): return x ** 2\n",
    "\n",
    "print(\"square 5: \", square(5))\n",
    "print(\"square 5: \", square_lambda(5))\n",
    "\n",
    "add = lambda x, y: x + y\n",
    "print(add(5, 3))\n",
    "\n",
    "# map(): 모든 요소에 함수 적용\n",
    "numbers = [1, 2, 4, 5]\n",
    "squared = list(map(lambda x: x**2, numbers))\n",
    "\n"
   ]
  },
  {
   "cell_type": "code",
   "execution_count": null,
   "id": "b13e6e74",
   "metadata": {},
   "outputs": [],
   "source": [
    "students = [(\"Alice\", [80, 90]), (\"Bob\", [60, 65]), (\"Charlie\", [70, 70])]\n",
    "avg = lambda y: y // 2\n",
    "students(key=lambda x)\n"
   ]
  },
  {
   "cell_type": "code",
   "execution_count": null,
   "id": "3bef3cd0",
   "metadata": {},
   "outputs": [],
   "source": []
  }
 ],
 "metadata": {
  "kernelspec": {
   "display_name": "base",
   "language": "python",
   "name": "python3"
  },
  "language_info": {
   "codemirror_mode": {
    "name": "ipython",
    "version": 3
   },
   "file_extension": ".py",
   "mimetype": "text/x-python",
   "name": "python",
   "nbconvert_exporter": "python",
   "pygments_lexer": "ipython3",
   "version": "3.12.7"
  }
 },
 "nbformat": 4,
 "nbformat_minor": 5
}
