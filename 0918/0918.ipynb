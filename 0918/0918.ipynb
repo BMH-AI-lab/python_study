{
 "cells": [
  {
   "cell_type": "markdown",
   "id": "0af84225",
   "metadata": {},
   "source": [
    "# === 중첩 반복문(while) ===\n",
    "\n",
    "+ 중첩 while문이란?\n",
    "    + 구구단\n"
   ]
  },
  {
   "cell_type": "markdown",
   "id": "29387053",
   "metadata": {},
   "source": [
    "+ 함수란 무엇인가?"
   ]
  },
  {
   "cell_type": "code",
   "execution_count": 8,
   "id": "91a62f91",
   "metadata": {},
   "outputs": [
    {
     "name": "stdout",
     "output_type": "stream",
     "text": [
      "이중 for문\n",
      "\n",
      "1 단\n",
      "1 x 1 = 1\n",
      "1 x 2 = 2\n",
      "1 x 3 = 3\n",
      "1 x 4 = 4\n",
      "1 x 5 = 5\n",
      "1 x 6 = 6\n",
      "1 x 7 = 7\n",
      "1 x 8 = 8\n",
      "1 x 9 = 9\n",
      "\n",
      "2 단\n",
      "2 x 1 = 2\n",
      "2 x 2 = 4\n",
      "2 x 3 = 6\n",
      "2 x 4 = 8\n",
      "2 x 5 = 10\n",
      "2 x 6 = 12\n",
      "2 x 7 = 14\n",
      "2 x 8 = 16\n",
      "2 x 9 = 18\n",
      "\n",
      "3 단\n",
      "3 x 1 = 3\n",
      "3 x 2 = 6\n",
      "3 x 3 = 9\n",
      "3 x 4 = 12\n",
      "3 x 5 = 15\n",
      "3 x 6 = 18\n",
      "3 x 7 = 21\n",
      "3 x 8 = 24\n",
      "3 x 9 = 27\n",
      "\n",
      "4 단\n",
      "4 x 1 = 4\n",
      "4 x 2 = 8\n",
      "4 x 3 = 12\n",
      "4 x 4 = 16\n",
      "4 x 5 = 20\n",
      "4 x 6 = 24\n",
      "4 x 7 = 28\n",
      "4 x 8 = 32\n",
      "4 x 9 = 36\n",
      "\n",
      "5 단\n",
      "5 x 1 = 5\n",
      "5 x 2 = 10\n",
      "5 x 3 = 15\n",
      "5 x 4 = 20\n",
      "5 x 5 = 25\n",
      "5 x 6 = 30\n",
      "5 x 7 = 35\n",
      "5 x 8 = 40\n",
      "5 x 9 = 45\n",
      "\n",
      "6 단\n",
      "6 x 1 = 6\n",
      "6 x 2 = 12\n",
      "6 x 3 = 18\n",
      "6 x 4 = 24\n",
      "6 x 5 = 30\n",
      "6 x 6 = 36\n",
      "6 x 7 = 42\n",
      "6 x 8 = 48\n",
      "6 x 9 = 54\n",
      "\n",
      "7 단\n",
      "7 x 1 = 7\n",
      "7 x 2 = 14\n",
      "7 x 3 = 21\n",
      "7 x 4 = 28\n",
      "7 x 5 = 35\n",
      "7 x 6 = 42\n",
      "7 x 7 = 49\n",
      "7 x 8 = 56\n",
      "7 x 9 = 63\n",
      "\n",
      "8 단\n",
      "8 x 1 = 8\n",
      "8 x 2 = 16\n",
      "8 x 3 = 24\n",
      "8 x 4 = 32\n",
      "8 x 5 = 40\n",
      "8 x 6 = 48\n",
      "8 x 7 = 56\n",
      "8 x 8 = 64\n",
      "8 x 9 = 72\n",
      "\n",
      "9 단\n",
      "9 x 1 = 9\n",
      "9 x 2 = 18\n",
      "9 x 3 = 27\n",
      "9 x 4 = 36\n",
      "9 x 5 = 45\n",
      "9 x 6 = 54\n",
      "9 x 7 = 63\n",
      "9 x 8 = 72\n",
      "9 x 9 = 81\n",
      "\n"
     ]
    }
   ],
   "source": [
    "print(\"이중 for문\")\n",
    "print()\n",
    "for i in range(1, 10):\n",
    "    print(f\"{i} 단\")\n",
    "    for j in range(1, 10):\n",
    "        print(f'{i} x {j} = {i * j}')\n",
    "    print()"
   ]
  },
  {
   "cell_type": "code",
   "execution_count": 9,
   "id": "e90f2804",
   "metadata": {},
   "outputs": [
    {
     "name": "stdout",
     "output_type": "stream",
     "text": [
      "이중 while문\n",
      "\n",
      "2 x 1 = 2\n",
      "2 x 2 = 4\n",
      "2 x 3 = 6\n",
      "2 x 4 = 8\n",
      "2 x 5 = 10\n",
      "2 x 6 = 12\n",
      "2 x 7 = 14\n",
      "2 x 8 = 16\n",
      "2 x 9 = 18\n",
      "3 x 1 = 3\n",
      "3 x 2 = 6\n",
      "3 x 3 = 9\n",
      "3 x 4 = 12\n",
      "3 x 5 = 15\n",
      "3 x 6 = 18\n",
      "3 x 7 = 21\n",
      "3 x 8 = 24\n",
      "3 x 9 = 27\n",
      "4 x 1 = 4\n",
      "4 x 2 = 8\n",
      "4 x 3 = 12\n",
      "4 x 4 = 16\n",
      "4 x 5 = 20\n",
      "4 x 6 = 24\n",
      "4 x 7 = 28\n",
      "4 x 8 = 32\n",
      "4 x 9 = 36\n",
      "5 x 1 = 5\n",
      "5 x 2 = 10\n",
      "5 x 3 = 15\n",
      "5 x 4 = 20\n",
      "5 x 5 = 25\n",
      "5 x 6 = 30\n",
      "5 x 7 = 35\n",
      "5 x 8 = 40\n",
      "5 x 9 = 45\n",
      "6 x 1 = 6\n",
      "6 x 2 = 12\n",
      "6 x 3 = 18\n",
      "6 x 4 = 24\n",
      "6 x 5 = 30\n",
      "6 x 6 = 36\n",
      "6 x 7 = 42\n",
      "6 x 8 = 48\n",
      "6 x 9 = 54\n",
      "7 x 1 = 7\n",
      "7 x 2 = 14\n",
      "7 x 3 = 21\n",
      "7 x 4 = 28\n",
      "7 x 5 = 35\n",
      "7 x 6 = 42\n",
      "7 x 7 = 49\n",
      "7 x 8 = 56\n",
      "7 x 9 = 63\n",
      "8 x 1 = 8\n",
      "8 x 2 = 16\n",
      "8 x 3 = 24\n",
      "8 x 4 = 32\n",
      "8 x 5 = 40\n",
      "8 x 6 = 48\n",
      "8 x 7 = 56\n",
      "8 x 8 = 64\n",
      "8 x 9 = 72\n",
      "9 x 1 = 9\n",
      "9 x 2 = 18\n",
      "9 x 3 = 27\n",
      "9 x 4 = 36\n",
      "9 x 5 = 45\n",
      "9 x 6 = 54\n",
      "9 x 7 = 63\n",
      "9 x 8 = 72\n",
      "9 x 9 = 81\n"
     ]
    }
   ],
   "source": [
    "print(\"이중 while문\")\n",
    "print()\n",
    "i = 2 # 초가값\n",
    "while i < 10:\n",
    "    j = 1\n",
    "    while j < 10:\n",
    "        print(f'{i} x {j} = {i * j}')\n",
    "        j += 1 # 수 증가\n",
    "    i += 1 # 단 증가\n",
    "     "
   ]
  },
  {
   "cell_type": "markdown",
   "id": "eda09d1f",
   "metadata": {},
   "source": [
    "# === 함수 ===\n",
    "+ 함수는 특정 작업을 수행하는 코드의 묶음 \n",
    "+ 한번 정의하면 필요할 때마다 호출하여 재사용할 수 있음 \n",
    "## == 함수를 사용하는 이유 ==\n",
    "+ 코드의 재사용성: 코드를 저장해 불러올 수 있음  \n",
    "+ 모듈화: 프로그램을 작은 단위로 나누어 관리  \n",
    "+ 가독성 향상: 정확히 표현 \n",
    "+ 유지보수 용이: 수정을 필요할 때 함수만 변경\n",
    "+ 추상화: 복잡한 로직을 인터페이스로 제공  \n"
   ]
  },
  {
   "cell_type": "code",
   "execution_count": 10,
   "id": "57ae80ae",
   "metadata": {},
   "outputs": [
    {
     "name": "stdout",
     "output_type": "stream",
     "text": [
      "Hello codingon\n"
     ]
    }
   ],
   "source": [
    "def greet(name):\n",
    "    print(f\"Hello {name}\")\n",
    "greet(\"codingon\")"
   ]
  },
  {
   "cell_type": "code",
   "execution_count": null,
   "id": "bf6ee8c0",
   "metadata": {},
   "outputs": [
    {
     "name": "stdout",
     "output_type": "stream",
     "text": [
      "3 + 5 = 8\n"
     ]
    }
   ],
   "source": [
    "def add(a, b):\n",
    "    result = a + b\n",
    "    return result\n",
    "sum_result = add(3, 5)\n",
    "print(f\"{3} + {5} = {sum_result}\")"
   ]
  },
  {
   "cell_type": "code",
   "execution_count": 7,
   "id": "07e5e64a",
   "metadata": {},
   "outputs": [
    {
     "name": "stdout",
     "output_type": "stream",
     "text": [
      "None\n",
      "200\n"
     ]
    }
   ],
   "source": [
    "def calculate_area(width, height):\n",
    "    # 직사각형 넓이 계산 \n",
    "    return width * height\n",
    "print(calculate_area.__doc__)\n",
    "print(calculate_area(10, 20)) "
   ]
  },
  {
   "cell_type": "code",
   "execution_count": null,
   "id": "ea75c6cc",
   "metadata": {},
   "outputs": [
    {
     "name": "stdout",
     "output_type": "stream",
     "text": [
      "MH, 안녕\n",
      "MH, 반갑습니다.\n"
     ]
    }
   ],
   "source": [
    "def greet(name, message = \"안녕\"):\n",
    "    print(f\"{name}, {message}\")\n",
    "\n",
    "greet('MH')\n",
    "greet(\"MH\", \"반갑습니다.\")\n",
    "\n",
    "def add(a, b, c, d):\n",
    "    return avg"
   ]
  },
  {
   "cell_type": "code",
   "execution_count": null,
   "id": "aee6c446",
   "metadata": {},
   "outputs": [],
   "source": []
  },
  {
   "cell_type": "code",
   "execution_count": null,
   "id": "ab0791a2",
   "metadata": {},
   "outputs": [
    {
     "name": "stdout",
     "output_type": "stream",
     "text": [
      "2.5\n",
      "abcd\n",
      "<function information at 0x000002C166CE5940>\n"
     ]
    }
   ],
   "source": [
    "def avg_all(*args):\n",
    "    return sum(args) / len(args) \n",
    "print(avg_all(1, 2, 3, 4))\n",
    "\n",
    "\n",
    "def string_a(*args):\n",
    "    return max(args)\n",
    "print(string_a('abc', 'abcd'))\n",
    "\n",
    "def information(**kwargs):\n",
    "    name = input(\"이름: \")\n",
    "    age = int(input(\"나이: \"))\n",
    "    email = input(\"이메일: \")\n",
    "    print(name, age, email)\n",
    "    return information\n",
    "print(information)\n",
    "\n",
    "# 문제 3. 사용자 정보 출력 함수\n",
    "\n",
    "# 문제 4. 할인 계산기"
   ]
  },
  {
   "cell_type": "code",
   "execution_count": null,
   "id": "e4f7ea19",
   "metadata": {},
   "outputs": [],
   "source": []
  },
  {
   "cell_type": "code",
   "execution_count": 4,
   "id": "a280e4cd",
   "metadata": {},
   "outputs": [
    {
     "name": "stdout",
     "output_type": "stream",
     "text": [
      "이름:  배명훈 나이:  28 이메일:  qoaudgns1818@naver.com\n"
     ]
    },
    {
     "data": {
      "text/plain": [
       "<function __main__.information(**kwargs)>"
      ]
     },
     "execution_count": 4,
     "metadata": {},
     "output_type": "execute_result"
    }
   ],
   "source": [
    "def information(**kwargs):\n",
    "    name = input(\"이름: \")\n",
    "    age = int(input(\"나이: \"))\n",
    "    email = input(\"이메일: \")\n",
    "    print(\"이름: \", name, \"나이: \", age, \"이메일: \", email)\n",
    "    return information\n",
    "information()"
   ]
  },
  {
   "cell_type": "code",
   "execution_count": null,
   "id": "6018b5aa",
   "metadata": {},
   "outputs": [
    {
     "ename": "ValueError",
     "evalue": "invalid literal for int() with base 10: 'Ian'",
     "output_type": "error",
     "traceback": [
      "\u001b[1;31m---------------------------------------------------------------------------\u001b[0m",
      "\u001b[1;31mValueError\u001b[0m                                Traceback (most recent call last)",
      "Cell \u001b[1;32mIn[16], line 7\u001b[0m\n\u001b[0;32m      4\u001b[0m     cureent_user \u001b[38;5;241m=\u001b[39m \u001b[38;5;28mint\u001b[39m(name) \u001b[38;5;241m+\u001b[39m \u001b[38;5;241m1\u001b[39m\n\u001b[0;32m      5\u001b[0m     \u001b[38;5;28mprint\u001b[39m(cureent_user)\n\u001b[1;32m----> 7\u001b[0m login(\u001b[38;5;124m\"\u001b[39m\u001b[38;5;124mIan\u001b[39m\u001b[38;5;124m\"\u001b[39m)\n\u001b[0;32m      8\u001b[0m login(\u001b[38;5;124m\"\u001b[39m\u001b[38;5;124mCodingOwl\u001b[39m\u001b[38;5;124m\"\u001b[39m)\n",
      "Cell \u001b[1;32mIn[16], line 4\u001b[0m, in \u001b[0;36mlogin\u001b[1;34m(name)\u001b[0m\n\u001b[0;32m      2\u001b[0m \u001b[38;5;28;01mdef\u001b[39;00m \u001b[38;5;21mlogin\u001b[39m(name):\n\u001b[0;32m      3\u001b[0m     \u001b[38;5;28;01mglobal\u001b[39;00m current_user\n\u001b[1;32m----> 4\u001b[0m     cureent_user \u001b[38;5;241m=\u001b[39m \u001b[38;5;28mint\u001b[39m(name) \u001b[38;5;241m+\u001b[39m \u001b[38;5;241m1\u001b[39m\n\u001b[0;32m      5\u001b[0m     \u001b[38;5;28mprint\u001b[39m(cureent_user)\n",
      "\u001b[1;31mValueError\u001b[0m: invalid literal for int() with base 10: 'Ian'"
     ]
    }
   ],
   "source": [
    "name = current \n",
    "def login(name):\n",
    "    global current_user\n",
    "    cureent_user = cureent_user + 1\n",
    "    print(cureent_user)\n",
    "\n",
    "login(\"Ian\")\n",
    "login(\"CodingOwl\")\n",
    "\n",
    "\n",
    "\n",
    "\n"
   ]
  },
  {
   "cell_type": "code",
   "execution_count": null,
   "id": "7d5f0335",
   "metadata": {},
   "outputs": [],
   "source": []
  },
  {
   "cell_type": "markdown",
   "id": "686b0bf9",
   "metadata": {},
   "source": []
  },
  {
   "cell_type": "markdown",
   "id": "fbe47df0",
   "metadata": {},
   "source": []
  }
 ],
 "metadata": {
  "kernelspec": {
   "display_name": "base",
   "language": "python",
   "name": "python3"
  },
  "language_info": {
   "codemirror_mode": {
    "name": "ipython",
    "version": 3
   },
   "file_extension": ".py",
   "mimetype": "text/x-python",
   "name": "python",
   "nbconvert_exporter": "python",
   "pygments_lexer": "ipython3",
   "version": "3.12.7"
  }
 },
 "nbformat": 4,
 "nbformat_minor": 5
}
