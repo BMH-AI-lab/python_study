{
 "cells": [
  {
   "cell_type": "markdown",
   "id": "3dcf9c4a",
   "metadata": {},
   "source": [
    "# **1. Numpy(넘파이)** \n",
    "\n",
    "+ 데이터 연산, 데이터 분석, 데이터 과학, 머신러닝 과학 연구 분야에 사용되는 패키지 \n",
    "+ 파이썬는 인터프리터 언어로 실행이 느림 \n",
    "+ numpy는 c언어로 구현되어 있어 대용량 데이터 연산을 매우 빠르게 처리 \n",
    "+ 속도 문제 해결을 위해 사용(메모리 효율성)\n",
    "    + 파이썬 리스트: 각 요소가 객체로 저장되어 메모리가 오버헤드됨 \n",
    "    + numpy 배열: 연속된 메모리 동간에 같은 타입의 데이터를 저장 \n",
    "+ 벡터화 연산\n",
    "    + 반복문 없이 전체 배열에 대한 연산을 한 번에 수행 \n",
    "+ 설치: pip install numpy"
   ]
  },
  {
   "cell_type": "code",
   "execution_count": 9,
   "id": "309c9331",
   "metadata": {},
   "outputs": [
    {
     "name": "stdout",
     "output_type": "stream",
     "text": [
      "numpy 버전:  1.26.4\n",
      "numpy 설치 경로:  c:\\Anaconda\\Lib\\site-packages\\numpy\\__init__.py\n",
      "1. 객체 타입:  <class 'numpy.ndarray'>\n",
      "2. 데이터 타입:  int32\n",
      "3. 배열 모양:  (5,)\n",
      "4. 차원 수:  1\n",
      "5. 전체 요소 수:  5\n",
      "파이썬 리스트:  [1, 1.25, '3.', True]\n",
      "Numpy 배열:  ['1' '1.25' '3.' 'True']\n",
      "리스트 더하기:  [1, 2, 3, 4, 5, 6]\n",
      "numpy 배열 더하기:  [5 7 9]\n"
     ]
    }
   ],
   "source": [
    "import numpy as np\n",
    "print('numpy 버전: ', np.__version__)\n",
    "print('numpy 설치 경로: ', np.__file__)\n",
    "\n",
    "arr = np.array([1, 2, 3, 4, 5])\n",
    "print(\"1. 객체 타입: \", type(arr))\n",
    "print(\"2. 데이터 타입: \", arr.dtype)\n",
    "print(\"3. 배열 모양: \", arr.shape)\n",
    "print(\"4. 차원 수: \", arr.ndim)\n",
    "print(\"5. 전체 요소 수: \", arr.size)\n",
    "\n",
    "python_list = [1, 1.25, \"3.\", True]\n",
    "numpy_array = np.array([1, 1.25, \"3.\", True])\n",
    "print(\"파이썬 리스트: \", python_list)\n",
    "print(\"Numpy 배열: \", numpy_array)\n",
    "\n",
    "list1 = [1, 2, 3]\n",
    "list2 = [4, 5, 6]\n",
    "print('리스트 더하기: ', list1 + list2)\n",
    "\n",
    "arr1 = np.array([1, 2, 3])\n",
    "arr2 = np.array([4, 5, 6])\n",
    "print('numpy 배열 더하기: ', arr1 + arr2)\n"
   ]
  },
  {
   "cell_type": "code",
   "execution_count": 10,
   "id": "645231c9",
   "metadata": {},
   "outputs": [
    {
     "name": "stdout",
     "output_type": "stream",
     "text": [
      "정수 배열:  [1 2 3 4 5]\n",
      "데이터 타입:  int32\n",
      "정수 배열:  [1.1 2.2 3.3 4.4 5. ]\n",
      "데이터 타입:  float64\n"
     ]
    }
   ],
   "source": [
    "int_array = np.array([1, 2, 3, 4, 5])\n",
    "print('정수 배열: ', int_array)\n",
    "print('데이터 타입: ', int_array.dtype)\n",
    "\n",
    "float_array = np.array([1.1, 2.2, 3.3, 4.4, 5])\n",
    "print('정수 배열: ', float_array)\n",
    "print('데이터 타입: ', float_array.dtype)"
   ]
  },
  {
   "cell_type": "code",
   "execution_count": 75,
   "id": "b6704b87",
   "metadata": {},
   "outputs": [
    {
     "name": "stdout",
     "output_type": "stream",
     "text": [
      "명시적 배열:  [1. 2. 3. 4. 5.]\n",
      "데이터 타입:  float32\n",
      "문자열 배열:  ['apple' 'banana' 'cherry']\n",
      "데이터 타입:  <U6\n",
      "2차원 배열:  [[1 2 3]\n",
      " [2 3 4]\n",
      " [4 5 6]]\n",
      "모양:  (3, 3)\n",
      "차원:  2\n",
      "크기:  9\n",
      "동적 생성 행렬:  [[0 1 2 3]\n",
      " [3 4 5 6]\n",
      " [6 7 8 9]]\n",
      "3차원 배열 모양:  (1, 3, 4)\n",
      "차원:  3\n",
      "\n",
      "0부터 9까지:  [0 1 2 3 4 5 6 7 8 9]\n",
      "1부터 10까지:  [ 1  2  3  4  5  6  7  8  9 10]\n",
      "1부터 20까지:  [ 1  3  5  7  9 11 13 15 17 19]\n",
      "1부터 10까지 0.5씩 증가:  [ 1.   1.5  2.   2.5  3.   3.5  4.   4.5  5.   5.5  6.   6.5  7.   7.5\n",
      "  8.   8.5  9.   9.5 10.  10.5]\n",
      "\n",
      "0부터 10까지 5개 요소\n",
      " [0.  1.8 3.6 5.4 7.2]\n"
     ]
    }
   ],
   "source": [
    "specified_array = np.array([\"1\", \"2\", 3, 4, 5], dtype=np.float32)\n",
    "print('명시적 배열: ', specified_array)\n",
    "print('데이터 타입: ', specified_array.dtype)\n",
    "\n",
    "string_array = np.array(['apple', 'banana', 'cherry'])\n",
    "print('문자열 배열: ', string_array)\n",
    "print('데이터 타입: ', string_array.dtype)\n",
    "\n",
    "matrix = np.array([\n",
    "    [1, 2, 3],\n",
    "    [2, 3, 4],\n",
    "    [4, 5, 6]\n",
    "])\n",
    "\n",
    "print(\"2차원 배열: \",matrix)\n",
    "print(\"모양: \",matrix.shape)\n",
    "print(\"차원: \",matrix.ndim)\n",
    "print(\"크기: \",matrix.size)\n",
    "\n",
    "# for i in range(3):\n",
    "#     for j in range(3):\n",
    "#         print()\n",
    "\n",
    "\n",
    "rows = []\n",
    "for i in range(3):\n",
    "    row = [i * 3 + j for j in range(4)]\n",
    "    rows.append(row)\n",
    "\n",
    "matrix2 = np.array(rows)\n",
    "print(\"동적 생성 행렬: \", matrix2)\n",
    "\n",
    "\n",
    "tensor = np.array([\n",
    "    [\n",
    "        [1, 2, 3, 4], \n",
    "        [5, 6, 7, 8], \n",
    "        [9, 10, 11, 12], \n",
    "    ],\n",
    "\n",
    "])\n",
    "print(\"3차원 배열 모양: \", tensor.shape)\n",
    "print(\"차원: \", tensor.ndim)\n",
    "print()\n",
    "\n",
    "arr1 = np.arange(10)\n",
    "print('0부터 9까지: ', arr1)\n",
    "arr2 = np.arange(1, 11)\n",
    "print(\"1부터 10까지: \", arr2)\n",
    "arr3 = np.arange(1, 21, 2)\n",
    "print(\"1부터 20까지: \", arr3)\n",
    "arr4 = np.arange(1, 11, 0.5)\n",
    "print(\"1부터 10까지 0.5씩 증가: \", arr4)\n",
    "\n",
    "print()\n",
    "arr1 = np.linspace(0, 9, 5, endpoint=False)\n",
    "print(\"0부터 10까지 5개 요소\\n\", arr1)\n",
    "\n"
   ]
  },
  {
   "cell_type": "code",
   "execution_count": 46,
   "id": "85053ab6",
   "metadata": {},
   "outputs": [
    {
     "name": "stdout",
     "output_type": "stream",
     "text": [
      "0부터 10까지 5개 요소 끝값 제외 \n",
      " [0. 2. 4. 6. 8.]\n"
     ]
    }
   ],
   "source": [
    "arr1 = np.linspace(0, 10, 5, endpoint=False)\n",
    "print(\"0부터 10까지 5개 요소 끝값 제외 \\n\", arr1)"
   ]
  },
  {
   "cell_type": "code",
   "execution_count": 53,
   "id": "4d9d4964",
   "metadata": {},
   "outputs": [
    {
     "name": "stdout",
     "output_type": "stream",
     "text": [
      "1차원 zeros:  [0. 0. 0. 0. 0.]\n",
      "2차원 zeros:  [[0. 0. 0. 0.]\n",
      " [0. 0. 0. 0.]\n",
      " [0. 0. 0. 0.]]\n",
      "2차원 zeros:  [[0 0 0 0]\n",
      " [0 0 0 0]\n",
      " [0 0 0 0]]\n",
      "zeros_like:  [[0 0 0]\n",
      " [0 0 0]\n",
      " [0 0 0]]\n"
     ]
    }
   ],
   "source": [
    "zeros_1d = np.zeros(5)\n",
    "print(\"1차원 zeros: \", zeros_1d)\n",
    "\n",
    "zeros_2d = np.zeros((3, 4))\n",
    "print(\"2차원 zeros: \", zeros_2d)\n",
    "zeros_2d_int = np.zeros((3, 4), dtype=int)\n",
    "print(\"2차원 zeros: \", zeros_2d_int)\n",
    "\n",
    "\n",
    "matrix = np.array([\n",
    "        [1, 2, 3], \n",
    "        [2, 3, 4], \n",
    "        [4, 5, 6], \n",
    "    ])\n",
    "\n",
    "zeros_copy = np.zeros_like(matrix)\n",
    "print(\"zeros_like: \", zeros_copy)"
   ]
  },
  {
   "cell_type": "code",
   "execution_count": 70,
   "id": "fcec33c2",
   "metadata": {},
   "outputs": [
    {
     "name": "stdout",
     "output_type": "stream",
     "text": [
      "[ 0  2  4  6  8 10 12 14 16 18 20]\n"
     ]
    }
   ],
   "source": [
    "print(np.arange(0, 22, 2))"
   ]
  },
  {
   "cell_type": "code",
   "execution_count": 161,
   "id": "795ff6eb",
   "metadata": {},
   "outputs": [
    {
     "name": "stdout",
     "output_type": "stream",
     "text": [
      "문제 1 과정: \n",
      " [[0 0 0 0]\n",
      " [0 0 0 0]\n",
      " [0 0 0 0]]\n",
      "\n",
      "문제 1: \n",
      " [[5 5 5 5]\n",
      " [5 5 5 5]\n",
      " [5 5 5 5]]\n"
     ]
    }
   ],
   "source": [
    "import numpy as np\n",
    "\n",
    "zero_1 = np.full((3, 4), 0)\n",
    "print(\"문제 1 과정: \\n\", zero_1)\n",
    "print()\n",
    "zero_2 = np.full(zero_1.shape, 5)\n",
    "print(\"문제 1: \\n\", zero_2)\n"
   ]
  },
  {
   "cell_type": "code",
   "execution_count": 162,
   "id": "822ee775",
   "metadata": {},
   "outputs": [
    {
     "name": "stdout",
     "output_type": "stream",
     "text": [
      "문제 2: \n",
      " [ 0  2  4  6  8 10 12 14 16 18 20]\n"
     ]
    }
   ],
   "source": [
    "import numpy as np\n",
    "print(\"문제 2: \\n\", np.arange(0, 22, 2))"
   ]
  },
  {
   "cell_type": "code",
   "execution_count": 163,
   "id": "a211f11d",
   "metadata": {},
   "outputs": [
    {
     "name": "stdout",
     "output_type": "stream",
     "text": [
      "문제 3: \n",
      " [[0.77395605 0.43887844 0.85859792]\n",
      " [0.69736803 0.09417735 0.97562235]]\n"
     ]
    }
   ],
   "source": [
    "from numpy.random import default_rng\n",
    "\n",
    "rng = default_rng(seed = 42)\n",
    "print(\"문제 3: \\n\", rng.random((2, 3)))"
   ]
  },
  {
   "cell_type": "code",
   "execution_count": 164,
   "id": "2405cd17",
   "metadata": {},
   "outputs": [
    {
     "name": "stdout",
     "output_type": "stream",
     "text": [
      "문제 4: \n",
      " [106.0943416   79.20031788 115.00902392 118.81129433  60.97929623\n",
      "  73.95640986]\n"
     ]
    }
   ],
   "source": [
    "from numpy.random import default_rng\n",
    "\n",
    "rng = default_rng(seed = 42)\n",
    "\n",
    "number = rng.normal(100, 20, size = 6)\n",
    "print(\"문제 4: \\n\", number)"
   ]
  },
  {
   "cell_type": "code",
   "execution_count": 166,
   "id": "f2ebeaf5",
   "metadata": {},
   "outputs": [
    {
     "name": "stdout",
     "output_type": "stream",
     "text": [
      "문제 5 과정:  [ 1  2  3  4  5  6  7  8  9 10 11 12 13 14 15 16 17 18 19 20]\n",
      "\n",
      "문제 5:\n",
      " [[ 1  2  3  4  5]\n",
      " [ 6  7  8  9 10]\n",
      " [11 12 13 14 15]\n",
      " [16 17 18 19 20]]\n"
     ]
    }
   ],
   "source": [
    "import numpy as np\n",
    "\n",
    "number1 = np.arange(1, 21)\n",
    "print(\"문제 5 과정: \", number1)\n",
    "print()\n",
    "\n",
    "print(\"문제 5:\\n\", number1.reshape(4, 5))\n"
   ]
  },
  {
   "cell_type": "code",
   "execution_count": 167,
   "id": "8dd4355a",
   "metadata": {},
   "outputs": [
    {
     "name": "stdout",
     "output_type": "stream",
     "text": [
      "문제 6: \n",
      " [[0.         0.09090909 0.18181818 0.27272727]\n",
      " [0.36363636 0.45454545 0.54545455 0.63636364]\n",
      " [0.72727273 0.81818182 0.90909091 1.        ]]\n"
     ]
    }
   ],
   "source": [
    "import numpy as np\n",
    "\n",
    "number = np.linspace(0, 1, 12).reshape(3, 4)\n",
    "print(\"문제 6: \\n\", number)"
   ]
  },
  {
   "cell_type": "code",
   "execution_count": 168,
   "id": "c97bc363",
   "metadata": {},
   "outputs": [
    {
     "name": "stdout",
     "output_type": "stream",
     "text": [
      "문제 7과정: \n",
      "\n",
      "[[20 52 89 28 76  2 80 62 19 33]\n",
      " [94 75 94 70 19 23 37 83 48 52]\n",
      " [96 24 98 57 38 18 62 21 26 51]\n",
      " [97 48 20  0 45 78 43  3 17 28]\n",
      " [95 73  5 65 77  7 94 67 44  6]\n",
      " [47 37 55 17 10 22 27 85 13 72]\n",
      " [20 39 67  1 30 76 47 49 49 26]\n",
      " [45 79 50 67 16 98 56 38 36 27]\n",
      " [69 31 80 31 33 86 93 11  2 53]\n",
      " [68 16 38 23 24 33  8 19 90 39]]\n",
      "\n",
      "[[1 0 0 0 0 0 0 0 0 0]\n",
      " [0 1 0 0 0 0 0 0 0 0]\n",
      " [0 0 1 0 0 0 0 0 0 0]\n",
      " [0 0 0 1 0 0 0 0 0 0]\n",
      " [0 0 0 0 1 0 0 0 0 0]\n",
      " [0 0 0 0 0 1 0 0 0 0]\n",
      " [0 0 0 0 0 0 1 0 0 0]\n",
      " [0 0 0 0 0 0 0 1 0 0]\n",
      " [0 0 0 0 0 0 0 0 1 0]\n",
      " [0 0 0 0 0 0 0 0 0 1]]\n",
      "\n",
      "문제 7: \n",
      " [[21 52 89 28 76  2 80 62 19 33]\n",
      " [94 76 94 70 19 23 37 83 48 52]\n",
      " [96 24 99 57 38 18 62 21 26 51]\n",
      " [97 48 20  1 45 78 43  3 17 28]\n",
      " [95 73  5 65 78  7 94 67 44  6]\n",
      " [47 37 55 17 10 23 27 85 13 72]\n",
      " [20 39 67  1 30 76 48 49 49 26]\n",
      " [45 79 50 67 16 98 56 39 36 27]\n",
      " [69 31 80 31 33 86 93 11  3 53]\n",
      " [68 16 38 23 24 33  8 19 90 40]]\n",
      "\n"
     ]
    }
   ],
   "source": [
    "import numpy as np\n",
    "\n",
    "number = np.random.randint(0, 100, (10, 10))\n",
    "a = np.eye(10, dtype = int)\n",
    "result = number + a\n",
    "print(\"문제 7과정: \\n\")\n",
    "print(number)\n",
    "print()\n",
    "print(a)\n",
    "print()\n",
    "print(\"문제 7: \\n\", result)\n",
    "print()"
   ]
  },
  {
   "cell_type": "code",
   "execution_count": 169,
   "id": "8092bac6",
   "metadata": {},
   "outputs": [
    {
     "name": "stdout",
     "output_type": "stream",
     "text": [
      "문제 8: \n",
      " [[[6 1 8 2]\n",
      "  [9 7 4 4]\n",
      "  [6 1 6 2]]\n",
      "\n",
      " [[2 2 7 0]\n",
      "  [4 8 0 8]\n",
      "  [9 3 0 3]]]\n"
     ]
    }
   ],
   "source": [
    "import numpy as np\n",
    "\n",
    "number = np.random.randint(0, 10, (2, 3, 4))\n",
    "print(\"문제 8: \\n\", number)"
   ]
  },
  {
   "cell_type": "code",
   "execution_count": 170,
   "id": "16fa4ab7",
   "metadata": {},
   "outputs": [
    {
     "name": "stdout",
     "output_type": "stream",
     "text": [
      "[12 16 20]\n"
     ]
    }
   ],
   "source": [
    "import numpy as np\n",
    "arr = np.arange(10, 30, 2)\n",
    "print(arr[[1, 3, 5]])"
   ]
  },
  {
   "cell_type": "code",
   "execution_count": null,
   "id": "2b9da3bf",
   "metadata": {},
   "outputs": [],
   "source": []
  },
  {
   "cell_type": "code",
   "execution_count": null,
   "id": "3f25d2ea",
   "metadata": {},
   "outputs": [],
   "source": []
  }
 ],
 "metadata": {
  "kernelspec": {
   "display_name": "base",
   "language": "python",
   "name": "python3"
  },
  "language_info": {
   "codemirror_mode": {
    "name": "ipython",
    "version": 3
   },
   "file_extension": ".py",
   "mimetype": "text/x-python",
   "name": "python",
   "nbconvert_exporter": "python",
   "pygments_lexer": "ipython3",
   "version": "3.12.7"
  }
 },
 "nbformat": 4,
 "nbformat_minor": 5
}
