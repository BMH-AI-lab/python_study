{
 "cells": [
  {
   "cell_type": "code",
   "execution_count": 14,
   "id": "45266aba",
   "metadata": {},
   "outputs": [
    {
     "data": {
      "text/plain": [
       "6"
      ]
     },
     "execution_count": 14,
     "metadata": {},
     "output_type": "execute_result"
    }
   ],
   "source": [
    "def solution(n):\n",
    "    answer = 0\n",
    "    # 문자안에 있는 문자의 값을 정수값으로 바꾸기 \n",
    "    for i in str(n):\n",
    "        num = int(i)\n",
    "        # 정수값을 합산\n",
    "        answer += num\n",
    "    return answer\n",
    "\n",
    "solution(123)\n"
   ]
  },
  {
   "cell_type": "code",
   "execution_count": 15,
   "id": "7754d31c",
   "metadata": {},
   "outputs": [
    {
     "data": {
      "text/plain": [
       "[5, 4, 3, 2, 1]"
      ]
     },
     "execution_count": 15,
     "metadata": {},
     "output_type": "execute_result"
    }
   ],
   "source": [
    "def solution(n):\n",
    "    answer = []\n",
    "    # 정수를 문자열로 \n",
    "    n_str = str(n)\n",
    "    # 문자의 전체 중 맨 뒷자리를 슬라이싱\n",
    "    for i in n_str[::-1]:\n",
    "        # 슬라이싱 한 값을 answer에 추가 \n",
    "        answer.append(int(i))\n",
    "    return answer\n",
    "\n",
    "solution(12345)"
   ]
  },
  {
   "cell_type": "code",
   "execution_count": 16,
   "id": "9cc4533f",
   "metadata": {},
   "outputs": [
    {
     "data": {
      "text/plain": [
       "'Odd'"
      ]
     },
     "execution_count": 16,
     "metadata": {},
     "output_type": "execute_result"
    }
   ],
   "source": [
    "def solution(num):\n",
    "    # num이 2로 나눴을 때 나미지가 0이면 Even(짝수), 1이상이면 Odd(홀수) \n",
    "    if num % 2 == 0:\n",
    "        return \"Even\"\n",
    "    else:\n",
    "        return \"Odd\"\n",
    "    \n",
    "solution(3)"
   ]
  },
  {
   "cell_type": "code",
   "execution_count": 17,
   "id": "d79ebdf4",
   "metadata": {},
   "outputs": [
    {
     "data": {
      "text/plain": [
       "2.5"
      ]
     },
     "execution_count": 17,
     "metadata": {},
     "output_type": "execute_result"
    }
   ],
   "source": [
    "def solution(arr):\n",
    "    # sum(arr): 문자 안의 값의 합\n",
    "    # len(arr):문자열 안의 값의 갯수 \n",
    "    return sum(arr) / len(arr)\n",
    "\n",
    "solution([1, 2, 3, 4])"
   ]
  },
  {
   "cell_type": "code",
   "execution_count": 18,
   "id": "07c2db6c",
   "metadata": {},
   "outputs": [
    {
     "data": {
      "text/plain": [
       "[2, 4, 6, 8, 10]"
      ]
     },
     "execution_count": 18,
     "metadata": {},
     "output_type": "execute_result"
    }
   ],
   "source": [
    "def solution(x, n):\n",
    "    answer = []\n",
    "    for i in range(n):\n",
    "        # x: 증가하는 값\n",
    "        # (i + 1): 증가하면서 나오는 리스트 값 개수 \n",
    "        # 2 * (2 + 1) = 2 * 3 = 6\n",
    "        data = x * (i + 1)\n",
    "        answer.append(data)\n",
    "    return answer\n",
    "\n",
    "solution(2, 5)"
   ]
  },
  {
   "cell_type": "code",
   "execution_count": null,
   "id": "a98462ba",
   "metadata": {},
   "outputs": [],
   "source": []
  },
  {
   "cell_type": "code",
   "execution_count": null,
   "id": "cbe8539f",
   "metadata": {},
   "outputs": [],
   "source": []
  },
  {
   "cell_type": "code",
   "execution_count": null,
   "id": "2764b4f0",
   "metadata": {},
   "outputs": [],
   "source": []
  }
 ],
 "metadata": {
  "kernelspec": {
   "display_name": "base",
   "language": "python",
   "name": "python3"
  },
  "language_info": {
   "codemirror_mode": {
    "name": "ipython",
    "version": 3
   },
   "file_extension": ".py",
   "mimetype": "text/x-python",
   "name": "python",
   "nbconvert_exporter": "python",
   "pygments_lexer": "ipython3",
   "version": "3.12.7"
  }
 },
 "nbformat": 4,
 "nbformat_minor": 5
}
