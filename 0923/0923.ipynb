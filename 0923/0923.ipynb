{
 "cells": [
  {
   "cell_type": "markdown",
   "id": "4a66e15c",
   "metadata": {},
   "source": [
    "# 상속\n",
    "+ 기존 클래스의 속성과 메서드를 물려받아 새로운 클래스를 만드는 것\n",
    "+ 동물: 포유류 -> 개, 고양이(공통 특징: 자기, 먹기)\n",
    "+ 가족: 부모 -> 자식 \n",
    "+ 상속없이 - 코드 중복이 심각해짐\n"
   ]
  },
  {
   "cell_type": "code",
   "execution_count": 4,
   "id": "e3cec65b",
   "metadata": {},
   "outputs": [
    {
     "name": "stdout",
     "output_type": "stream",
     "text": [
      "바둑이(가) 멍멍 짖습니다.\n",
      "바둑이(가) 먹습니다.\n",
      "바둑이(가) 잠을 잡니다.\n"
     ]
    }
   ],
   "source": [
    "class Animal:\n",
    "    def __init__(self, name, age):\n",
    "        self.name = name \n",
    "        self.age = age\n",
    "    \n",
    "    def eat(self):\n",
    "        print(f\"{self.name}이(가) 먹습니다.\")\n",
    "    \n",
    "    def sleep(self):\n",
    "        print(f\"{self.name}이(가) 잠을 잡니다.\")\n",
    "\n",
    "class Dog(Animal):\n",
    "    def bark(self):\n",
    "        print(f\"{self.name}이(가) 멍멍 짖습니다.\")\n",
    "\n",
    "\n",
    "class Cat(Animal):\n",
    "    def meow(self):\n",
    "        print(f\"{self.name}이(가) 멍멍 짖습니다.\")\n",
    "\n",
    "class Bird(Animal):\n",
    "    def fly(self):\n",
    "        print(f\"{self.name}이(가) 날아갑니다.\")\n",
    "\n",
    "\n",
    "\n",
    "dog1 = Dog(\"바둑\", 3)\n",
    "dog1.bark()\n",
    "dog1.eat()\n",
    "dog1.sleep()\n"
   ]
  },
  {
   "cell_type": "code",
   "execution_count": 6,
   "id": "a6927361",
   "metadata": {},
   "outputs": [],
   "source": [
    "class Parent: # 부모 클래스 \n",
    "    pass\n",
    "\n",
    "class Child(Parent): # 자식 클래스 \n",
    "    pass\n"
   ]
  },
  {
   "cell_type": "markdown",
   "id": "8557fd70",
   "metadata": {},
   "source": [
    "\n",
    "###### 자식은 부모의 모든 것을 불려 받습니다. \n",
    "######  부모의 모든 속성과 메서드가 자동으로 사용 가능 \n",
    "###### 추가된 자신 만의 속성과 메서드 정의 가능 "
   ]
  },
  {
   "cell_type": "code",
   "execution_count": 9,
   "id": "35dfabf1",
   "metadata": {},
   "outputs": [
    {
     "name": "stdout",
     "output_type": "stream",
     "text": [
      "안녕하세요. 김학생 입니다.\n",
      "안녕하세요. 박선생 입니다.\n",
      "김학생이(가) 공부합니다.\n",
      "박선생이(가) 수업합니다.\n"
     ]
    }
   ],
   "source": [
    "class Person: \n",
    "    def __init__(self, name, age):\n",
    "        self.name = name \n",
    "        self.age = age\n",
    "    def greet(self):\n",
    "        print(f\"안녕하세요. {self.name} 입니다.\")\n",
    "\n",
    "\n",
    "\n",
    "class Student(Person):\n",
    "    def study(self):\n",
    "        print(f\"{self.name}이(가) 공부합니다.\")\n",
    "\n",
    "class Teacher(Person):\n",
    "    def teach(self):\n",
    "        print(f\"{self.name}이(가) 수업합니다.\")\n",
    "    \n",
    "\n",
    "\n",
    "student = Student(\"김학생\", 20)\n",
    "teacher = Teacher(\"박선생\", 35)\n",
    "student.greet()\n",
    "teacher.greet()\n",
    "student.study()\n",
    "teacher.teach()"
   ]
  },
  {
   "cell_type": "code",
   "execution_count": 27,
   "id": "d4dd6843",
   "metadata": {},
   "outputs": [
    {
     "name": "stdout",
     "output_type": "stream",
     "text": [
      "Person 생성: 김철수 20살\n",
      "Student 생성: 학번 20250001\n",
      "안녕하세요.  입니다.\n",
      "학생입니다.\n",
      "김철수\n"
     ]
    }
   ],
   "source": [
    "class Person:\n",
    "    def __init__(self, name, age):\n",
    "        self.name = name\n",
    "        self.age = age\n",
    "        print(f\"Person 생성: {name} {age}살\")\n",
    "\n",
    "    def greet(self):\n",
    "        print(f\"안녕하세요.  입니다.\")\n",
    "\n",
    "class Student(Person):\n",
    "    def __init__(self, name, age, student_id):\n",
    "        super().__init__(name, age)\n",
    "        self.student_id = student_id\n",
    "        print(f\"Student 생성: 학번 {student_id}\")\n",
    "    \n",
    "    def greet(self):\n",
    "        super().greet()\n",
    "        print(f\"학생입니다.\")\n",
    "        \n",
    "\n",
    "student = Student(\"김철수\", 20, \"20250001\")\n",
    "student.greet()\n",
    "print(student.name)"
   ]
  },
  {
   "cell_type": "code",
   "execution_count": 37,
   "id": "ab8c07be",
   "metadata": {},
   "outputs": [
    {
     "name": "stdout",
     "output_type": "stream",
     "text": [
      "변의 개수: 4, 밑변의 길이: 5\n",
      "area:5 x 6 = 5 * 6\n",
      "변의 개수: 4, 밑변의 길이: 9\n",
      "area:9 x 7 / 2 = 9 * 7 / 2\n"
     ]
    }
   ],
   "source": [
    "# 문제 1. Shape 클래스 오버라이딩\n",
    "\n",
    "class Shape:\n",
    "    def __init__(self, sides, base):\n",
    "        self.sides = sides\n",
    "        self.base = base\n",
    "\n",
    "    def printInfo(self):\n",
    "        print(f\"변의 개수: {self.sides}, 밑변의 길이: {self.base}\")\n",
    "\n",
    "    def area(self):\n",
    "        print(\"넓이 계산이 정의되지 않았습니다.\")\n",
    "\n",
    "class Rectangle(Shape):\n",
    "    def __init__(self, sides, base, height):\n",
    "        super().__init__(sides, base)\n",
    "        self.height = height\n",
    "\n",
    "    def area(self):\n",
    "        print(f\"area:{self.base} x {self.height} = {self.base} * {self.height}\")\n",
    "    \n",
    "class Triangle(Shape):\n",
    "    def __init__(self, sides, base, height):\n",
    "        super().__init__(sides, base)\n",
    "        self.height = height\n",
    "\n",
    "    def area(self):\n",
    "        print(f\"area:{self.base} x {self.height} / 2 = {self.base} * {self.height} / 2\")\n",
    "\n",
    "\n",
    "\n",
    "shape = [Rectangle(4, 5, 6), Triangle(4, 9, 7)]\n",
    "for i in shape:\n",
    "    i.printInfo()\n",
    "    i.area()"
   ]
  },
  {
   "cell_type": "markdown",
   "id": "fad08e98",
   "metadata": {},
   "source": [
    "## 추상클래스 \n",
    "+ 직접 객체를 만들 수 없고, 반드시 상속 받아서 완성해야 사용할 수 있는 미완성 설계도 \n",
    "+ 동물: 실제로 '동물'만 있는 건 없고, 개, 고양이, 새 등 구체적인 동물이 있음 \n",
    "+ 악기: 실제로 '악기'만 있는 건 없고, 피아노, 기타, 드럼 등이 있어야 연주 가능 "
   ]
  },
  {
   "cell_type": "code",
   "execution_count": 55,
   "id": "7a3dea19",
   "metadata": {},
   "outputs": [],
   "source": [
    "from abc import ABC, abstractmethod\n",
    "# 추상클래스 정의 \n",
    "class Animal(ABC):\n",
    "    @abstractmethod\n",
    "    def make_sound(self):\n",
    "        pass\n",
    "\n",
    "class Dog(Animal):\n",
    "    def make_sound(self):\n",
    "        pass\n",
    "\n",
    "    def eat(self):\n",
    "        print(\"강아지가 밥을 먹습니다.\")\n",
    "\n",
    "dog = Dog()\n",
    "dog.make_sound() # 아무것도 안 일어남(버그)\n",
    "\n",
    "#  기본 사용법 \n",
    "# from abc import ABC, abstractmethod\n",
    "\n",
    "# class 추상클래스이름(ABC):\n",
    "#     @abstractmethod\n",
    "#     def 추상메서드 이름(self):\n",
    "#         pass\n",
    "\n",
    "\n"
   ]
  },
  {
   "cell_type": "code",
   "execution_count": 56,
   "id": "992b503c",
   "metadata": {},
   "outputs": [
    {
     "name": "stdout",
     "output_type": "stream",
     "text": [
      "78.5\n"
     ]
    }
   ],
   "source": [
    "# 추상클래스 정의 \n",
    "class  Shape(ABC):\n",
    "\n",
    "    @abstractmethod\n",
    "    def area(self):\n",
    "        pass\n",
    "\n",
    "class Circle(Shape):\n",
    "    def __init__(self, radius):\n",
    "        self.radius = radius\n",
    "\n",
    "    def area(self):\n",
    "        return 3.14 * self.radius * self.radius\n",
    "    \n",
    "circle = Circle(5)\n",
    "print(circle.area())"
   ]
  },
  {
   "cell_type": "code",
   "execution_count": 61,
   "id": "3d152c17",
   "metadata": {},
   "outputs": [
    {
     "name": "stdout",
     "output_type": "stream",
     "text": [
      "바둑이(가) 짖습니다.\n",
      "바둑이(가) 뛰어다닙니다.\n",
      "짹짹이(가) 짹쨱 합니다.\n",
      "짹짹이(가) 짹쨱 합니다.\n"
     ]
    }
   ],
   "source": [
    "from abc import ABC, abstractmethod\n",
    "# 추상클래스 정의 \n",
    "class Animal(ABC):\n",
    "    @abstractmethod\n",
    "    def __init__(self, name):\n",
    "        self.name = name\n",
    "    def sleep(self):\n",
    "        print(f\"{self.name}이(가) 잠을 잡니다.\")\n",
    "\n",
    "    def eat(self):\n",
    "        print(f\"{self.name}이(가)밥을 먹습니다.\")\n",
    "\n",
    "    @abstractmethod\n",
    "    def make_sound(self):\n",
    "        pass       \n",
    "\n",
    "    @abstractmethod\n",
    "    def move(self):\n",
    "        pass\n",
    "\n",
    "class Dog(Animal):\n",
    "    def __init__(self, name):\n",
    "        self.name = name\n",
    "    def make_sound(self):\n",
    "        print(f\"{self.name}이(가) 짖습니다.\")\n",
    "\n",
    "    def move(self):\n",
    "        print(f\"{self.name}이(가) 뛰어다닙니다.\")\n",
    "\n",
    "class Bird(Animal):\n",
    "    def __init__(self, name):\n",
    "        self.name = name\n",
    "    def make_sound(self):\n",
    "        print(f\"{self.name}이(가) 짹쨱 합니다.\")\n",
    "\n",
    "    def move(self):\n",
    "        print(f\"{self.name}이(가) 날아다닙니다.\")\n",
    "\n",
    "\n",
    "dog = Dog(\"바둑\")\n",
    "bird = Bird(\"짹짹\")\n",
    "dog.make_sound()\n",
    "dog.move()\n",
    "bird.make_sound()\n",
    "bird.make_sound()\n",
    "\n",
    "\n",
    "    "
   ]
  },
  {
   "cell_type": "code",
   "execution_count": 48,
   "id": "c605a5db",
   "metadata": {},
   "outputs": [
    {
     "name": "stdout",
     "output_type": "stream",
     "text": [
      "카드로 10000원을 결제합니다\n",
      "현금으로 5000원을 결제합니다.\n"
     ]
    }
   ],
   "source": [
    "from abc import ABC, abstractmethod\n",
    "\n",
    "class Payment(ABC):\n",
    "    def __init__(self, amount):\n",
    "        self.amount = amount\n",
    "        \n",
    "    @abstractmethod\n",
    "    def payment(self, amount):\n",
    "        self.amount = amount\n",
    "        pass\n",
    "        \n",
    "\n",
    "\n",
    "class CardPayment(Payment):\n",
    "    def __init__(self, amount):\n",
    "        self.amount = amount\n",
    "    \n",
    "    def payment(self):\n",
    "        print(f\"카드로 {self.amount}원을 결제합니다\")\n",
    "\n",
    "\n",
    "class CashPayment(Payment):\n",
    "    def __init__(self, amount):\n",
    "        self.amount = amount\n",
    "    \n",
    "    def payment(self):\n",
    "        print(f\"현금으로 {self.amount}원을 결제합니다.\")\n",
    "\n",
    "cardpayment = CardPayment(10000)\n",
    "cashpayment = CashPayment(5000)\n",
    "\n",
    "cardpayment.payment()\n",
    "cashpayment.payment()\n"
   ]
  },
  {
   "cell_type": "markdown",
   "id": "94e04ba3",
   "metadata": {},
   "source": [
    "# 모듈 \n",
    "+ 파이썬 코드가 저장된 파일 \n",
    "+ 함수, 믈래스 등을 파일로 다른 프로그램에서 가져다 쓸 수 있음\n",
    "+ 도구 상자: 여러 도구(함수)를 모아둔 상자\n",
    "+ 레고 블록: 필요한 블록(모듈)을 가져와서 조합 \n",
    "+ 요리 레시피: 필요한 레시피(모듈)를 참고해서 요리 "
   ]
  },
  {
   "cell_type": "code",
   "execution_count": null,
   "id": "77955200",
   "metadata": {},
   "outputs": [],
   "source": [
    "def add(a, b):\n",
    "    return a + b\n",
    "\n",
    "def sub(a, b):\n",
    "    return a - b\n",
    "\n",
    "def mul(a, b):\n",
    "    return a * b\n",
    "\n",
    "def div(a, b):\n",
    "    if b == 0:\n",
    "        return 0\n",
    "    return a / b\n",
    "\n"
   ]
  },
  {
   "cell_type": "code",
   "execution_count": null,
   "id": "270c800b",
   "metadata": {},
   "outputs": [
    {
     "ename": "ModuleNotFoundError",
     "evalue": "No module named 'calculator'",
     "output_type": "error",
     "traceback": [
      "\u001b[1;31m---------------------------------------------------------------------------\u001b[0m",
      "\u001b[1;31mModuleNotFoundError\u001b[0m                       Traceback (most recent call last)",
      "Cell \u001b[1;32mIn[62], line 1\u001b[0m\n\u001b[1;32m----> 1\u001b[0m \u001b[38;5;28;01mimport\u001b[39;00m \u001b[38;5;21;01mcalculator\u001b[39;00m\n\u001b[0;32m      3\u001b[0m result \u001b[38;5;241m=\u001b[39m calcualator\u001b[38;5;241m.\u001b[39madd(\u001b[38;5;241m5\u001b[39m, \u001b[38;5;241m0\u001b[39m)\n\u001b[0;32m      4\u001b[0m \u001b[38;5;28mprint\u001b[39m(result)\n",
      "\u001b[1;31mModuleNotFoundError\u001b[0m: No module named 'calculator'"
     ]
    }
   ],
   "source": [
    "import calculator\n",
    "\n",
    "result = calcualator.add(5, 0)\n",
    "print(result)\n",
    "\n",
    "import math \n",
    "import random \n",
    "import datatime \n",
    "\n",
    "print(math.pi)\n",
    "print(random.randint(1, 11))\n",
    "print(datatime.datetime.now)\n"
   ]
  },
  {
   "cell_type": "code",
   "execution_count": null,
   "id": "ca11b6e0",
   "metadata": {},
   "outputs": [],
   "source": []
  }
 ],
 "metadata": {
  "kernelspec": {
   "display_name": "base",
   "language": "python",
   "name": "python3"
  },
  "language_info": {
   "codemirror_mode": {
    "name": "ipython",
    "version": 3
   },
   "file_extension": ".py",
   "mimetype": "text/x-python",
   "name": "python",
   "nbconvert_exporter": "python",
   "pygments_lexer": "ipython3",
   "version": "3.12.7"
  }
 },
 "nbformat": 4,
 "nbformat_minor": 5
}
