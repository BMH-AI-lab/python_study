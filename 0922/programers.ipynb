{
 "cells": [
  {
   "cell_type": "code",
   "execution_count": 9,
   "id": "1497e33f",
   "metadata": {},
   "outputs": [],
   "source": [
    "def solution(box, n):\n",
    "    x, y, z = box\n",
    "    return (x // n) * (y // n) * (z // n)\n",
    "\n"
   ]
  },
  {
   "cell_type": "code",
   "execution_count": 2,
   "id": "6991a57c",
   "metadata": {},
   "outputs": [
    {
     "data": {
      "text/plain": [
       "5"
      ]
     },
     "execution_count": 2,
     "metadata": {},
     "output_type": "execute_result"
    }
   ],
   "source": [
    "# 합성수: 약수가 여러개 있는 수\n",
    "# 합성수는 4부터 시작함 \n",
    "# 1, 2, 3은 소수임(소수는 약수가 두개만 존재하는 수)\n",
    "def solution(n):\n",
    "    answer = 0\n",
    "    for i in range(1, n + 1):\n",
    "        divisor = []\n",
    "        for j in range(1, i + 1):\n",
    "            # 약수 \n",
    "            if i % j == 0:\n",
    "                divisor.append(j)\n",
    "        if len(divisor) >= 3:\n",
    "            answer += 1\n",
    "            \n",
    "    return answer\n",
    "\n",
    "solution(10)"
   ]
  },
  {
   "cell_type": "code",
   "execution_count": null,
   "id": "06dc4578",
   "metadata": {},
   "outputs": [],
   "source": []
  }
 ],
 "metadata": {
  "kernelspec": {
   "display_name": "base",
   "language": "python",
   "name": "python3"
  },
  "language_info": {
   "codemirror_mode": {
    "name": "ipython",
    "version": 3
   },
   "file_extension": ".py",
   "mimetype": "text/x-python",
   "name": "python",
   "nbconvert_exporter": "python",
   "pygments_lexer": "ipython3",
   "version": "3.12.7"
  }
 },
 "nbformat": 4,
 "nbformat_minor": 5
}
