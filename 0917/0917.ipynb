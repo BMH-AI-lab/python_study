{
 "cells": [
  {
   "cell_type": "markdown",
   "id": "b0d747bd",
   "metadata": {},
   "source": [
    "## 1. 루프 제어문 \n",
    "\n",
    "+ break \n",
    "    + ㅈ"
   ]
  },
  {
   "cell_type": "code",
   "execution_count": 20,
   "id": "1ef59bf7",
   "metadata": {},
   "outputs": [
    {
     "name": "stdout",
     "output_type": "stream",
     "text": [
      "red, apple\n",
      "red, banana\n",
      "blue, apple\n",
      "blue, banana\n"
     ]
    }
   ],
   "source": [
    "colors = ['red', 'blue']\n",
    "fruits = ['apple', 'banana']\n",
    "\n",
    "\n",
    "for color in colors:\n",
    "    for fruit in fruits:\n",
    "        print(f'{color}, {fruit}')"
   ]
  },
  {
   "cell_type": "code",
   "execution_count": 21,
   "id": "c04ed292",
   "metadata": {},
   "outputs": [
    {
     "name": "stdout",
     "output_type": "stream",
     "text": [
      "0\n",
      "1\n"
     ]
    }
   ],
   "source": [
    "# break \n",
    "for i in range(3):\n",
    "    if i == 2:\n",
    "        # break를 만나면 for문 종료 \n",
    "        break \n",
    "    print(i)"
   ]
  },
  {
   "cell_type": "code",
   "execution_count": 22,
   "id": "2766d0f8",
   "metadata": {},
   "outputs": [
    {
     "name": "stdout",
     "output_type": "stream",
     "text": [
      "0\n",
      "for 문 종료\n"
     ]
    }
   ],
   "source": [
    "for i in range(10):\n",
    "    print(i)\n",
    "    break \n",
    "\n",
    "print('for 문 종료')"
   ]
  },
  {
   "cell_type": "code",
   "execution_count": 23,
   "id": "ce7dbccf",
   "metadata": {},
   "outputs": [
    {
     "name": "stdout",
     "output_type": "stream",
     "text": [
      "0\n",
      "2\n",
      "4\n",
      "6\n",
      "8\n"
     ]
    }
   ],
   "source": [
    "#continue\n",
    "for i in range(10):\n",
    "    if i % 2:\n",
    "        continue\n",
    "    print(i)"
   ]
  },
  {
   "cell_type": "code",
   "execution_count": 24,
   "id": "a91ddedb",
   "metadata": {},
   "outputs": [
    {
     "name": "stdout",
     "output_type": "stream",
     "text": [
      "0\n",
      "1\n",
      "2\n",
      "3\n",
      "4\n",
      "5\n",
      "6\n",
      "7\n",
      "8\n",
      "9\n"
     ]
    }
   ],
   "source": [
    "# pass\n",
    "for i in range(10):\n",
    "    pass\n",
    "    print(i)"
   ]
  },
  {
   "cell_type": "code",
   "execution_count": 30,
   "id": "40dfbb94",
   "metadata": {},
   "outputs": [
    {
     "name": "stdout",
     "output_type": "stream",
     "text": [
      "0\n",
      "루프 정상 종료\n"
     ]
    }
   ],
   "source": [
    "for i in range(10):\n",
    "    if i == 1:\n",
    "        break\n",
    "    else:\n",
    "        print(i)\n",
    "        print('루프 정상 종료')  "
   ]
  },
  {
   "cell_type": "code",
   "execution_count": null,
   "id": "dd90dada",
   "metadata": {},
   "outputs": [],
   "source": [
    "squares = [x ** 2 for x in range(1, 11)]"
   ]
  },
  {
   "cell_type": "code",
   "execution_count": null,
   "id": "3dec1529",
   "metadata": {},
   "outputs": [],
   "source": []
  },
  {
   "cell_type": "code",
   "execution_count": null,
   "id": "a722e4bb",
   "metadata": {},
   "outputs": [],
   "source": []
  }
 ],
 "metadata": {
  "kernelspec": {
   "display_name": "base",
   "language": "python",
   "name": "python3"
  },
  "language_info": {
   "codemirror_mode": {
    "name": "ipython",
    "version": 3
   },
   "file_extension": ".py",
   "mimetype": "text/x-python",
   "name": "python",
   "nbconvert_exporter": "python",
   "pygments_lexer": "ipython3",
   "version": "3.12.7"
  }
 },
 "nbformat": 4,
 "nbformat_minor": 5
}
