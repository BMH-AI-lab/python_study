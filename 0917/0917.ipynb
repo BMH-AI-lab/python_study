{
 "cells": [
  {
   "cell_type": "markdown",
   "id": "b0d747bd",
   "metadata": {},
   "source": [
    "## 1. 루프 제어문 \n",
    "\n",
    "+ break \n",
    "    + ㅈ"
   ]
  },
  {
   "cell_type": "code",
   "execution_count": 1,
   "id": "1ef59bf7",
   "metadata": {},
   "outputs": [
    {
     "name": "stdout",
     "output_type": "stream",
     "text": [
      "red, apple\n",
      "red, banana\n",
      "blue, apple\n",
      "blue, banana\n",
      "0\n",
      "1\n",
      "0\n",
      "for 문 종료\n",
      "0\n",
      "2\n",
      "4\n",
      "6\n",
      "8\n",
      "0\n",
      "1\n",
      "2\n",
      "3\n",
      "4\n",
      "5\n",
      "6\n",
      "7\n",
      "8\n",
      "9\n",
      "루프 정상 종료\n"
     ]
    }
   ],
   "source": [
    "colors = ['red', 'blue']\n",
    "fruits = ['apple', 'banana']\n",
    "\n",
    "\n",
    "for color in colors:\n",
    "    for fruit in fruits:\n",
    "        print(f'{color}, {fruit}')\n",
    "\n",
    "# break \n",
    "for i in range(3):\n",
    "    if i == 2:\n",
    "        # break를 만나면 for문 종료 \n",
    "        break \n",
    "    print(i)\n",
    "\n",
    "for i in range(10):\n",
    "    print(i)\n",
    "    break \n",
    "\n",
    "print('for 문 종료')\n",
    "\n",
    "#continue\n",
    "for i in range(10):\n",
    "    if i % 2:\n",
    "        continue\n",
    "    print(i)\n",
    "    \n",
    "# pass\n",
    "for i in range(10):\n",
    "    pass\n",
    "    print(i)\n",
    "\n",
    "for i in range(10):\n",
    "    if i == 1:\n",
    "        break\n",
    "    else:\n",
    "        print('루프 정상 종료')  "
   ]
  },
  {
   "cell_type": "markdown",
   "id": "851d4f29",
   "metadata": {},
   "source": [
    "## while 문\n",
    "\n",
    "\n"
   ]
  },
  {
   "cell_type": "code",
   "execution_count": 2,
   "id": "3dec1529",
   "metadata": {},
   "outputs": [
    {
     "name": "stdout",
     "output_type": "stream",
     "text": [
      "반복문 실행\n",
      "반복문 실행\n",
      "반복문 실행\n",
      "반복문 실행\n",
      "반복문 실행\n",
      "반복문 종료\n"
     ]
    }
   ],
   "source": [
    "i = 1\n",
    "\n",
    "while i <= 5:\n",
    "    print(\"반복문 실행\")\n",
    "    i += 1\n",
    "print(\"반복문 종료\")\n"
   ]
  },
  {
   "cell_type": "code",
   "execution_count": 3,
   "id": "a722e4bb",
   "metadata": {},
   "outputs": [
    {
     "name": "stdout",
     "output_type": "stream",
     "text": [
      "비밀번호가 틀렸습니다. 다시 시도해주세요.\n"
     ]
    }
   ],
   "source": [
    "secret_code = \"codingonre3\"\n",
    "while secret_code:\n",
    "    user = input(\"비밀 코드를 입력하세요: \")\n",
    "    if user == secret_code:\n",
    "        print(\"입장완료 환영합니다.\")\n",
    "        break\n",
    "    elif user != secret_code:\n",
    "        print(\"비밀번호가 틀렸습니다. 다시 시도해주세요.\" )"
   ]
  },
  {
   "cell_type": "markdown",
   "id": "b5252253",
   "metadata": {},
   "source": [
    "## for문 vs while 문\n",
    "+ for문: 몇번 반복할지 정해져 있을 때\n",
    "+ while문: 조건이 만족하는 동안 계속 반복\n",
    "    + "
   ]
  },
  {
   "cell_type": "code",
   "execution_count": 5,
   "id": "fdd2a56f",
   "metadata": {},
   "outputs": [
    {
     "name": "stdout",
     "output_type": "stream",
     "text": [
      "count 5\n",
      "count 4\n",
      "count 3\n",
      "count 2\n",
      "count 1\n",
      "while문 종료\n",
      "1부터 100까지의 합 5050\n",
      "올바른 나이를 입력해주세요!\n",
      "입력된 나이: 20세\n",
      "틀렸습니다. 2번 남았습니다.\n",
      "틀렸습니다. 1번 남았습니다.\n"
     ]
    }
   ],
   "source": [
    "# 카운트 다운 \n",
    "# \n",
    "count = 5\n",
    "\n",
    "while count > 0:\n",
    "    print(f'count {count}')\n",
    "    count -= 1 # 조건을 변경 \n",
    "\n",
    "print(\"while문 종료\")\n",
    "\n",
    "# 누적 합계 구하기 \n",
    "total = 0\n",
    "num = 1\n",
    "while num <= 100:\n",
    "    total += num\n",
    "    num += 1\n",
    "print(f\"1부터 100까지의 합 {total}\")\n",
    "\n",
    "\n",
    "age = -1\n",
    "while age < 0 or age > 150:\n",
    "    age = int(input(\"나이를 입력하세요(0~150): \"))\n",
    "\n",
    "    if age < 0 or age < 150:\n",
    "        print(\"올바른 나이를 입력해주세요!\")\n",
    "\n",
    "print(f\"입력된 나이: {age}세\")\n",
    "\n"
   ]
  },
  {
   "cell_type": "code",
   "execution_count": 7,
   "id": "4c1ded9e",
   "metadata": {},
   "outputs": [
    {
     "name": "stdout",
     "output_type": "stream",
     "text": [
      "틀렸습니다. 2번 남았습니다.\n",
      "틀렸습니다. 1번 남았습니다.\n"
     ]
    }
   ],
   "source": [
    "#비밀번호 확인 \n",
    "correct_password = \"python 123\"\n",
    "attempt = 0\n",
    "max_attempts = 3\n",
    "while attempt < max_attempts:\n",
    "    password = (\"비밀번호를 입력하세요: \")\n",
    "    attempt += 1\n",
    "    if password == correct_password:\n",
    "        print(\"로그인 성공!!\")\n",
    "        break\n",
    "    else:\n",
    "        remaining = max_attempts - attempt\n",
    "        if remaining > 0:\n",
    "            print(f\"틀렸습니다. {remaining}번 남았습니다.\")\n",
    "        else:\n",
    "            (f\"로그인 실패! 계정이 잠겼습니다.\")\n",
    "\n",
    "while True:\n",
    "    user_input = input(\"명력을 입력하세요(종료 q)\")\n",
    "    if user_input == 'q':\n",
    "        print(\"프로그램을 종료합니다.\")\n",
    "    print(f\"입력한 명령: {user_input}\")\n",
    "    pass\n",
    "\n",
    "\n"
   ]
  },
  {
   "cell_type": "code",
   "execution_count": null,
   "id": "f0371780",
   "metadata": {},
   "outputs": [],
   "source": [
    "while True:\n",
    "    num1 = float(input(\"첫번째 숫자:\"))\n",
    "\n",
    "    if num1 == 0:\n",
    "        break \n",
    "    num2 =float(input(\"두번째 숫자:\"))\n",
    "    operater = (\"\")\n"
   ]
  }
 ],
 "metadata": {
  "kernelspec": {
   "display_name": "base",
   "language": "python",
   "name": "python3"
  },
  "language_info": {
   "codemirror_mode": {
    "name": "ipython",
    "version": 3
   },
   "file_extension": ".py",
   "mimetype": "text/x-python",
   "name": "python",
   "nbconvert_exporter": "python",
   "pygments_lexer": "ipython3",
   "version": "3.12.7"
  }
 },
 "nbformat": 4,
 "nbformat_minor": 5
}
