{
 "cells": [
  {
   "cell_type": "markdown",
   "id": "b090b129",
   "metadata": {},
   "source": [
    "# **Pandas**\n",
    "**(1) 데이터 분석**\n",
    "+ 데이터의 숨겨진 패턴을 찾기 위한 과정 \n",
    "    + 데이터 수집 -> 데이터 정제 \n",
    "    + 데이터 탐색 -> 데이터 분석 -> 시각화 \n",
    "    + 인사이트 도출 \n",
    "+ Excel vs pandas\n",
    "    + Excel로 100만개 데이터를 처리 한다면?(불편한 점)\n",
    "        + 2019버전 1000000행까지만 제한이 되어 있으면 파일만 열어도 5분이상 소요됨\n",
    "        + 수식 계산시 프로그램이 멈춤 \n",
    "        + 반복 작업을 매번 수동으로 해야 함\n",
    "\n",
    "+ pandas 설치 \n",
    "   + pip install pandas\n",
    "\n",
    "+ Series\n",
    "    + 인덱스 지정 가능 \n",
    "    + 리스트로 생성 가능(기본 인덱스가 자동 부여됨)\n",
    "        + 인덱스를 원하는 값으로 지정 가능 \n",
    "    + 딕셔너리로 생성 가능 (키가 인덱스, 벨류가 컬럼이 됨)\n",
    "    + 인덱스를 원하는 값으로 변형 가능 \n",
    "    + 주요 속성 \n",
    "        + 실제 데이터 배열\n",
    "        + 인덱스 객체\n",
    "        + 데이터 타입, 개수\n",
    "        + 배열의 형태 \n",
    "        + Series 이름 \n",
    "    + pandas의 가장 기본이 되는 1차원 데이터 구조 \n",
    "        + 1차원 배열: 데이터가 일렬로 나열되어 있음 \n",
    "        + 레이블(인덱스) 공유: 각 데이터에 이름표를 붙일 수 있음 \n",
    "        + 동일 타입: 하나의 series 안의 모든 데이터는 같은 타입임 \n",
    "\n",
    "+ DataFrame \n",
    "    + pandas의 핵심 자료구조 \n",
    "    + Excel 만드는 것과 비슷하다 생각하면 됨 \n",
    "    + 2차원 표 형태의 데이터를 다루는 객체 \n",
    "        + 2차원 구조: 행, 열로 구성된 표\n",
    "        + Series의 집합: 여러 개의 Series가 열로 배치된 형태 \n",
    "        + 레이블 기잔: 각 행과 열에 이름(레이블)을 붙일 수 있음 \n",
    "        + 각 열마다 다른 데이터 타입 가능 "
   ]
  },
  {
   "cell_type": "markdown",
   "id": "a4d7e87b",
   "metadata": {},
   "source": [
    "# **pandas 라이브러리 불러오기 및 버전 확인** "
   ]
  },
  {
   "cell_type": "code",
   "execution_count": 1,
   "id": "5a4c6785",
   "metadata": {},
   "outputs": [
    {
     "name": "stdout",
     "output_type": "stream",
     "text": [
      "2.2.2\n"
     ]
    }
   ],
   "source": [
    "import pandas as pd\n",
    "print(pd.__version__)"
   ]
  },
  {
   "cell_type": "markdown",
   "id": "0906bb84",
   "metadata": {},
   "source": [
    "# **Series**"
   ]
  },
  {
   "cell_type": "code",
   "execution_count": 2,
   "id": "62a686ae",
   "metadata": {},
   "outputs": [
    {
     "name": "stdout",
     "output_type": "stream",
     "text": [
      "Interger Serirs dtype: \n",
      " 0    10\n",
      "1    20\n",
      "2    30\n",
      "3    40\n",
      "4    50\n",
      "dtype: int64\n",
      "Float Serirs dtype: \n",
      " 0    1.1\n",
      "1    2.2\n",
      "2    3.3\n",
      "3    4.4\n",
      "4    5.5\n",
      "dtype: float64\n",
      "None\n",
      "String Serirs dtype: \n",
      " 0     Apple\n",
      "1    Banana\n",
      "2    Cherry\n",
      "dtype: object\n",
      "None\n",
      "Boolean Serirs dtype: \n",
      " 0     True\n",
      "1    False\n",
      "2     True\n",
      "dtype: bool\n",
      "None\n",
      "0    10\n",
      "1    20\n",
      "2    30\n",
      "3    40\n",
      "4    50\n",
      "dtype: int64\n",
      "0    15.5\n",
      "1    17.2\n",
      "2    18.9\n",
      "3    19.1\n",
      "4    20.1\n",
      "Name: 4월_기온, dtype: float64\n",
      "DatetimeIndex(['2025-04-01', '2025-04-02', '2025-04-03', '2025-04-04',\n",
      "               '2025-04-05'],\n",
      "              dtype='datetime64[ns]', freq='D')\n",
      "2025-04-01    15.5\n",
      "2025-04-02    17.2\n",
      "2025-04-03    18.9\n",
      "2025-04-04    19.1\n",
      "2025-04-05    20.1\n",
      "Freq: D, Name: 4월 기온, dtype: float64\n",
      "노트북    15\n",
      "마우스    40\n",
      "키보드    20\n",
      "Name: 현재재고, dtype: int64\n",
      "\n",
      "월    0\n",
      "화    0\n",
      "수    0\n",
      "목    0\n",
      "Name: 판매량, dtype: int64\n",
      "\n",
      "수요일 매출:  150\n",
      "수요일 매출(sales.iloc[2]):  150\n",
      "수요일 매출 까지(sales.iloc[:Wed]):\n",
      "Mon    100\n",
      "Tue    200\n",
      "Wed    150\n",
      "Name: dailt_sales, dtype: int64\n",
      "Mon    100\n",
      "Wed    150\n",
      "Thu    300\n",
      "Name: dailt_sales, dtype: int64\n",
      "Mon    False\n",
      "Tue     True\n",
      "Wed    False\n",
      "Thu     True\n",
      "Name: dailt_sales, dtype: bool\n",
      "\n",
      "Tue    200\n",
      "Thu    300\n",
      "Name: dailt_sales, dtype: int64\n",
      "Tue    200\n",
      "Name: dailt_sales, dtype: int64\n",
      "Tue    200\n",
      "Wed    150\n",
      "Thu    300\n",
      "Name: dailt_sales, dtype: int64\n",
      "Mon    100\n",
      "Thu    300\n",
      "Name: dailt_sales, dtype: int64\n",
      "Mon    100\n",
      "Wed    150\n",
      "Thu    300\n",
      "Name: dailt_sales, dtype: int64\n",
      "Tue    200\n",
      "Thu    300\n",
      "Name: Daily_sales, dtype: int64\n",
      "Mon    100\n",
      "Wed    150\n",
      "Fri    250\n",
      "Name: Daily_sales, dtype: int64\n"
     ]
    }
   ],
   "source": [
    "# Series = Value(값) + index(인덱스) + Name(이름)\n",
    "\n",
    "data_series = pd.Series(data=[10, 20, 30, 40, 50], \n",
    "                        index=[\"Alice\", \"Bob\", \"charile\", \"David\", \"Eve\"], \n",
    "                        name = \"Test_Score\")\n",
    "\n",
    "\n",
    "\n",
    "\"\"\"\n",
    "각 구성요소의 역할:\n",
    "    Value(값)\n",
    "        실제 데이터가 저장되는 부분\n",
    "        Numpy 배열로 저장됨\n",
    "        빠른 수치 연산 가능 \n",
    "    Index(인덱스)\n",
    "        각 값을 식별하는 레이블 \n",
    "        기본 값: 0, 1, 2, ...(정수)\n",
    "        사용자 정의 가능(문자열, 날씨 등)\n",
    "    Name(이름)\n",
    "        Series 전체를 설명하는 이름 \n",
    "        선택사항(없어도 됨)\n",
    "    DataFrame 결합 시 컬럼명이 됨\n",
    "\"\"\"\n",
    "\n",
    "int_series = pd.Series([10, 20, 30, 40, 50])\n",
    "print(f\"Interger Serirs dtype: \\n {int_series}\")\n",
    "\n",
    "float_series = pd.Series([1.1, 2.2, 3.3, 4.4, 5.5])\n",
    "print(print(f\"Float Serirs dtype: \\n {float_series}\"))\n",
    "\n",
    "str_series = pd.Series([\"Apple\", \"Banana\", \"Cherry\"])\n",
    "print(print(f\"String Serirs dtype: \\n {str_series}\"))\n",
    "\n",
    "bool_series = pd.Series([True, False, True])\n",
    "print(print(f\"Boolean Serirs dtype: \\n {bool_series}\"))\n",
    "\n",
    "simple_list = pd.Series([10, 20, 30, 40, 50])\n",
    "print(simple_list)\n",
    "\n",
    "\n",
    "temp_list = [15.5, 17.2, 18.9, 19.1, 20.1]\n",
    "temp = pd.Series(temp_list, name=\"4월_기온\")\n",
    "print(temp)\n",
    "# 0    15.5\n",
    "# 1    17.2\n",
    "# 2    18.9\n",
    "# 3    19.1\n",
    "# 4    20.1\n",
    "# Name: 4월_기온, dtype: float64\n",
    "\n",
    "date = pd.date_range(\"2025-4-01\", periods=5)\n",
    "print(date)\n",
    "temp_date = pd.Series(temp_list, index=date, name=\"4월 기온\")\n",
    "print(temp_date)\n",
    "\n",
    "product = {\"노트북\" : 15, \n",
    "           \"마우스\": 40, \n",
    "           \"키보드\": 20\n",
    "           }\n",
    "\n",
    "product_series = pd.Series(product, name=\"현재재고\") \n",
    "print(product_series)\n",
    "print()\n",
    "\n",
    "scalar_series = pd.Series(0, index=['월', '화', '수', '목'], name=\"판매량\")\n",
    "print(scalar_series)\n",
    "print()\n",
    "\n",
    "\n",
    "# 인덱싱 \n",
    "sales = pd.Series([100, 200, 150, 300],\n",
    "                index=[\"Mon\", \"Tue\", \"Wed\", \"Thu\"], \n",
    "                name=\"dailt_sales\")\n",
    "\n",
    "wed_sales = sales[\"Wed\"]\n",
    "print(\"수요일 매출: \", wed_sales)\n",
    "# wed_sales2 = sales[2]\n",
    "# print(\"수요일 매출: \", wed_sales2)\n",
    "print(\"수요일 매출(sales.iloc[2]): \",sales.iloc[2])\n",
    "print(\"수요일 매출 까지(sales.iloc[:Wed]):\")\n",
    "print(sales.loc[:'Wed'])\n",
    "\n",
    "selected_sales = sales[[\"Mon\", \"Wed\", \"Thu\"]]\n",
    "print(selected_sales)\n",
    "\n",
    "condition =  sales >=200\n",
    "print(condition)\n",
    "print()\n",
    "\n",
    "result = sales[condition]\n",
    "print(result)\n",
    "\n",
    "print(sales[sales == 200])\n",
    "print(sales[(sales >= 150) & (sales <= 350)])\n",
    "print(sales[(sales < 150) | (sales >= 300)])\n",
    "print(sales[sales != 200])\n",
    "\n",
    "\n",
    "sales = pd.Series([100, 200, 150, 300, 250],\n",
    "                index=[\"Mon\", \"Tue\", \"Wed\", \"Thu\", \"Fri\"], \n",
    "                name=\"Daily_sales\")\n",
    "\n",
    "weekday_high = sales[(sales >= 200) & (sales.index != \"Fri\")]\n",
    "print(weekday_high)\n",
    "\n",
    "weeked_or_low = sales[(sales < 200) | sales.index.isin([\"Mon\", \"Fri\"])]\n",
    "print(weeked_or_low)\n",
    "\n",
    "# 슬라이싱 \n",
    "\n",
    "\n"
   ]
  },
  {
   "cell_type": "markdown",
   "id": "64f2a960",
   "metadata": {},
   "source": [
    "## **실습 1. Series 연습**"
   ]
  },
  {
   "cell_type": "code",
   "execution_count": 3,
   "id": "6f464e78",
   "metadata": {},
   "outputs": [
    {
     "name": "stdout",
     "output_type": "stream",
     "text": [
      "[Series 생성결과]\n",
      "0     5\n",
      "1    10\n",
      "2    15\n",
      "3    20\n",
      "dtype: int64\n"
     ]
    }
   ],
   "source": [
    "# 문제 1\n",
    "import pandas as pd\n",
    "\n",
    "python_list = pd.Series([5, 10, 15, 20])\n",
    "print(\"[Series 생성결과]\")\n",
    "print(python_list)"
   ]
  },
  {
   "cell_type": "code",
   "execution_count": 4,
   "id": "a9bad0cf",
   "metadata": {},
   "outputs": [
    {
     "name": "stdout",
     "output_type": "stream",
     "text": [
      "[인덱스 지정 결과]\n",
      "국어     5\n",
      "영어    10\n",
      "수학    15\n",
      "과학    20\n",
      "dtype: int64\n"
     ]
    }
   ],
   "source": [
    "# 문제 2\n",
    "index_book = pd.Series([5, 10, 15, 20], index=['국어', '영어', '수학', '과학'])\n",
    "print(\"[인덱스 지정 결과]\")\n",
    "print(index_book)"
   ]
  },
  {
   "cell_type": "code",
   "execution_count": 5,
   "id": "1e6bd054",
   "metadata": {},
   "outputs": [
    {
     "name": "stdout",
     "output_type": "stream",
     "text": [
      "인천의 값:  520\n"
     ]
    }
   ],
   "source": [
    "# 문제 3\n",
    "d_city = {'서울': 950, '부산': 340, '인천': 520} \n",
    "index_city = pd.Series(d_city)\n",
    "print(\"인천의 값: \", index_city[\"인천\"])"
   ]
  },
  {
   "cell_type": "code",
   "execution_count": 6,
   "id": "73ef4843",
   "metadata": {},
   "outputs": [
    {
     "name": "stdout",
     "output_type": "stream",
     "text": [
      "데이터 타입(dtype):  int64\n"
     ]
    }
   ],
   "source": [
    "# 문제 4\n",
    "dtype_series = pd.Series([1, 2, 3, 4])\n",
    "print(\"데이터 타입(dtype): \", dtype_series.dtype)"
   ]
  },
  {
   "cell_type": "code",
   "execution_count": 7,
   "id": "5938a69f",
   "metadata": {},
   "outputs": [
    {
     "name": "stdout",
     "output_type": "stream",
     "text": [
      "[두 Series의 합]\n",
      "a     NaN\n",
      "b    15.0\n",
      "c    27.0\n",
      "d     NaN\n",
      "dtype: float64\n"
     ]
    }
   ],
   "source": [
    "# 문제 5\n",
    "s1 = pd.Series([3, 5, 7], index=['a', 'b', 'c'])\n",
    "s2 = pd.Series([10, 20, 30], index=['b', 'c', 'd'])\n",
    "print(\"[두 Series의 합]\")\n",
    "print(s1 +s2)"
   ]
  },
  {
   "cell_type": "code",
   "execution_count": 8,
   "id": "25204961",
   "metadata": {},
   "outputs": [
    {
     "name": "stdout",
     "output_type": "stream",
     "text": [
      "[각 값에 10을 더한 Series]\n",
      "0    11\n",
      "1    12\n",
      "2    13\n",
      "3    14\n",
      "4    15\n",
      "dtype: int64\n"
     ]
    }
   ],
   "source": [
    "# 문제 6\n",
    "num = pd.Series([1, 2, 3, 4, 5])\n",
    "print(\"[각 값에 10을 더한 Series]\")\n",
    "print(num + 10)"
   ]
  },
  {
   "cell_type": "markdown",
   "id": "7b287859",
   "metadata": {},
   "source": [
    "## **DataFrame**"
   ]
  },
  {
   "cell_type": "code",
   "execution_count": 9,
   "id": "92ce2c16",
   "metadata": {},
   "outputs": [
    {
     "name": "stdout",
     "output_type": "stream",
     "text": [
      "===Data Frame===\n",
      "     name  age dapartment  salary\n",
      "E001  김철수   27        Dev    4500\n",
      "E002  이영희   23         Hr    4800\n",
      "\n",
      "===구성 요소 분석===\n",
      "행 구성:  ['E001', 'E002']\n",
      "열 구성:  ['name', 'age', 'dapartment', 'salary']\n",
      "구성:  (2, 4)\n",
      "행 개수:  2\n",
      "열 개수:  4\n",
      "크기:  8\n"
     ]
    }
   ],
   "source": [
    "# DataFrame 구성요소 \n",
    "test_data = pd.DataFrame(\n",
    "    # 데이터 - 2차원 배열\n",
    "    data=[[\"김철수\", 27, \"Dev\", 4500],\n",
    "          [\"이영희\", 23, \"Hr\", 4800], \n",
    "          ], \n",
    "\n",
    "    # 행 인덱스 \n",
    "    index = [\"E001\", \"E002\"], \n",
    "    # 열 이름 \n",
    "    columns=[\"name\", \"age\", \"dapartment\", \"salary\"] \n",
    "    \n",
    ")\n",
    "\n",
    "print(\"===Data Frame===\")\n",
    "print(test_data)\n",
    "print()\n",
    "print(\"===구성 요소 분석===\")\n",
    "print(\"행 구성: \", test_data.index.tolist())\n",
    "print(\"열 구성: \",test_data.columns.tolist())\n",
    "print(\"구성: \",test_data.shape)\n",
    "print(\"행 개수: \",test_data.shape[0])\n",
    "print(\"열 개수: \",test_data.shape[1])\n",
    "print(\"크기: \",test_data.size)\n",
    "\n",
    "\n",
    "\n",
    "\n",
    "\n",
    "\n"
   ]
  },
  {
   "cell_type": "code",
   "execution_count": null,
   "id": "7620e856",
   "metadata": {},
   "outputs": [],
   "source": []
  },
  {
   "cell_type": "code",
   "execution_count": null,
   "id": "4a5cb1c4",
   "metadata": {},
   "outputs": [],
   "source": []
  },
  {
   "cell_type": "markdown",
   "id": "9fe0dcd0",
   "metadata": {},
   "source": [
    "# **실습 2. DataFrame 연습**"
   ]
  },
  {
   "cell_type": "code",
   "execution_count": 10,
   "id": "f2635d85",
   "metadata": {},
   "outputs": [
    {
     "name": "stdout",
     "output_type": "stream",
     "text": [
      "=== 컬럼명을 '이름', '나이', '도시'로 지정 결과 ===\n",
      "\n",
      "    이름  나이  도시\n",
      "0  홍길동  28  서울\n",
      "1  김철수  33  부산\n",
      "2  이영희  25  대구\n"
     ]
    }
   ],
   "source": [
    "import pandas as pd\n",
    "\n",
    "# 문제 1\n",
    "data = pd.DataFrame([['홍길동', 28, '서울'], \n",
    "                    ['김철수', 33, '부산'],\n",
    "                    ['이영희', 25, '대구']], columns = ['이름', '나이', '도시'])\n",
    "print(\"=== 컬럼명을 '이름', '나이', '도시'로 지정 결과 ===\")\n",
    "print()\n",
    "print(data)\n"
   ]
  },
  {
   "cell_type": "code",
   "execution_count": 11,
   "id": "b6dec86d",
   "metadata": {},
   "outputs": [
    {
     "name": "stdout",
     "output_type": "stream",
     "text": [
      "=== 딕셔너리로 DataFrame을 생성 결과 ===\n",
      "\n",
      "           A          B\n",
      "0  [1, 2, 3]  [4, 5, 6]\n"
     ]
    }
   ],
   "source": [
    "# 문제 2\n",
    "dict_data = pd.DataFrame([{'A': [1, 2, 3], 'B': [4, 5, 6]}])\n",
    "print(\"=== 딕셔너리로 DataFrame을 생성 결과 ===\")\n",
    "print()\n",
    "print(dict_data)"
   ]
  },
  {
   "cell_type": "code",
   "execution_count": 12,
   "id": "1d2cbbec",
   "metadata": {},
   "outputs": [
    {
     "name": "stdout",
     "output_type": "stream",
     "text": [
      "=== DataFrame 생성 ===\n",
      "\n",
      "   과목  점수\n",
      "0  수학  90\n",
      "1  영어  85\n",
      "2  과학  95\n"
     ]
    }
   ],
   "source": [
    "# 문제 3\n",
    "sub_data1 = pd.DataFrame([{'과목': '수학', '점수': 90}, \n",
    "                         {'과목': '영어', '점수': 85},\n",
    "                         {'과목': '과학', '점수': 95}])\n",
    "print(\"=== DataFrame 생성 ===\")\n",
    "print()\n",
    "print(sub_data1)"
   ]
  },
  {
   "cell_type": "code",
   "execution_count": 13,
   "id": "f7b13977",
   "metadata": {},
   "outputs": [
    {
     "name": "stdout",
     "output_type": "stream",
     "text": [
      "=== 인덱스를 ['학생1', '학생2', '학생3']으로 지정한 결과 ===\n",
      "\n",
      "     과목  점수  이름  점수\n",
      "학생1  수학  90  민수  80\n",
      "학생2  영어  85  영희  92\n",
      "학생3  과학  95  철수  77\n"
     ]
    }
   ],
   "source": [
    "# 문제 4\n",
    "sub_data1 = pd.DataFrame([{'과목': '수학', '점수': 90}, \n",
    "                         {'과목': '영어', '점수': 85},\n",
    "                         {'과목': '과학', '점수': 95}])\n",
    "sub_data2 = pd.DataFrame({'이름': ['민수', '영희', '철수'], '점수': [80, 92, 77]})\n",
    "result = pd.concat([sub_data1, sub_data2], axis=1)\n",
    "result.index = ['학생1', '학생2', '학생3'] \n",
    "print(\"=== 인덱스를 ['학생1', '학생2', '학생3']으로 지정한 결과 ===\")\n",
    "print()\n",
    "print(result)"
   ]
  },
  {
   "cell_type": "code",
   "execution_count": 14,
   "id": "359b1543",
   "metadata": {},
   "outputs": [
    {
     "name": "stdout",
     "output_type": "stream",
     "text": [
      "=== Series 객체 2개를 이용해 DataFrame 생성 결과 ===\n",
      "    0   1\n",
      "a  90  95\n",
      "b  85  88\n",
      "c  80  82\n"
     ]
    }
   ],
   "source": [
    "# 문제 5\n",
    "kor = pd.Series([90, 85, 80], index=['a', 'b', 'c'])\n",
    "eng= pd.Series([95, 88, 82], index=['a', 'b', 'c'])\n",
    "result = pd.concat([kor, eng], axis=1)\n",
    "print(\"=== Series 객체 2개를 이용해 DataFrame 생성 결과 ===\")\n",
    "print(pd.DataFrame(result))"
   ]
  },
  {
   "cell_type": "code",
   "execution_count": 15,
   "id": "8655ed73",
   "metadata": {},
   "outputs": [
    {
     "name": "stdout",
     "output_type": "stream",
     "text": [
      "=== DataFrame 생성 ===\n",
      "   A  B\n",
      "0  1  3\n",
      "1  2  4\n",
      "\n",
      "=== 컬럼 순서를 ['B', 'A']로 지정한 결과 ===\n",
      "   B  A\n",
      "0  3  1\n",
      "1  4  2\n"
     ]
    }
   ],
   "source": [
    "# 문제 6\n",
    "dict_list = pd.DataFrame({'A': [1, 2], 'B': [3, 4]})\n",
    "print(\"=== DataFrame 생성 ===\")\n",
    "print(dict_list)\n",
    "print()\n",
    "print(\"=== 컬럼 순서를 ['B', 'A']로 지정한 결과 ===\")\n",
    "print(dict_list[[\"B\", \"A\"]])"
   ]
  },
  {
   "cell_type": "code",
   "execution_count": 16,
   "id": "e7f98eed",
   "metadata": {},
   "outputs": [
    {
     "name": "stdout",
     "output_type": "stream",
     "text": [
      "=== 컬럼명을 ['product', 'price', 'stock']으로 변경 결과 ===\n",
      "\n",
      "  product  price  stock\n",
      "0       펜   1000     50\n",
      "1      노트   2000     30\n"
     ]
    }
   ],
   "source": [
    "# 문제 7\n",
    "supplies_list1 = pd.DataFrame([['펜', 1000, 50], ['노트', 2000, 30]], \n",
    "                              columns=['product', 'price', 'stock'])\n",
    "print(\"=== 컬럼명을 ['product', 'price', 'stock']으로 변경 결과 ===\")\n",
    "print()\n",
    "print(supplies_list1)"
   ]
  },
  {
   "cell_type": "code",
   "execution_count": 17,
   "id": "98b350a9",
   "metadata": {},
   "outputs": [
    {
     "name": "stdout",
     "output_type": "stream",
     "text": [
      "=== 국가 컬럼만 추출한 결과 ===\n",
      "\n",
      "0    한국\n",
      "1    일본\n",
      "2    미국\n",
      "Name: 국가, dtype: object\n"
     ]
    }
   ],
   "source": [
    "# 문제 8\n",
    "country_list =  pd.DataFrame({'국가': ['한국', '일본', '미국'],\n",
    "                            '수도': ['서울', '도쿄', '워싱턴']})\n",
    "print(\"=== 국가 컬럼만 추출한 결과 ===\")\n",
    "print()\n",
    "print(country_list[\"국가\"])"
   ]
  },
  {
   "cell_type": "code",
   "execution_count": null,
   "id": "b4612eca",
   "metadata": {},
   "outputs": [],
   "source": [
    "# 프로젝트 주제 예시 \n",
    "# 일조량에 따른 전력 생산량 예측 \n",
    "# 강수량에 따른 전력 생산량 예측 "
   ]
  },
  {
   "cell_type": "markdown",
   "id": "bf44c42f",
   "metadata": {},
   "source": [
    "# **실습3. iloc, loc연습**"
   ]
  },
  {
   "cell_type": "code",
   "execution_count": 18,
   "id": "25adef04",
   "metadata": {},
   "outputs": [
    {
     "name": "stdout",
     "output_type": "stream",
     "text": [
      "    이름  나이   직업  점수\n",
      "0  홍길동  23   학생  85\n",
      "1  이순신  35   군인  90\n",
      "2  김유신  31   장군  75\n",
      "3  강감찬  40   장군  88\n",
      "4  장보고  28   상인  92\n",
      "5  이방원  34   왕자  95\n",
      "6  최무선  42  과학자  87\n",
      "7  정도전  29  정치가  83\n",
      "\n",
      "이름    [홍길동, 이순신, 김유신, 강감찬, 장보고, 이방원, 최무선, 정도전]\n",
      "나이            [23, 35, 31, 40, 28, 34, 42, 29]\n",
      "직업          [학생, 군인, 장군, 장군, 상인, 왕자, 과학자, 정치가]\n",
      "점수            [85, 90, 75, 88, 92, 95, 87, 83]\n",
      "dtype: object\n"
     ]
    }
   ],
   "source": [
    "data = {\n",
    " \"이름\": [\"홍길동\", \"이순신\", \"김유신\", \"강감찬\", \"장보고\", \"이방원\", \"최무선\", \"정도전\"],\n",
    " \"나이\": [23, 35, 31, 40, 28, 34, 42, 29],\n",
    " \"직업\": [\"학생\", \"군인\", \"장군\", \"장군\", \"상인\", \"왕자\", \"과학자\", \"정치가\"],\n",
    " \"점수\": [85, 90, 75, 88, 92, 95, 87, 83]\n",
    " }\n",
    "df = pd.DataFrame(data)\n",
    "ss = pd.Series(data)\n",
    "print(df)\n",
    "print()\n",
    "print(ss)\n"
   ]
  },
  {
   "cell_type": "code",
   "execution_count": null,
   "id": "4964c032",
   "metadata": {},
   "outputs": [],
   "source": []
  },
  {
   "cell_type": "code",
   "execution_count": null,
   "id": "088ea5c8",
   "metadata": {},
   "outputs": [],
   "source": []
  },
  {
   "cell_type": "code",
   "execution_count": null,
   "id": "e2dec8c8",
   "metadata": {},
   "outputs": [],
   "source": []
  },
  {
   "cell_type": "code",
   "execution_count": null,
   "id": "6cb22458",
   "metadata": {},
   "outputs": [],
   "source": []
  },
  {
   "cell_type": "code",
   "execution_count": null,
   "id": "9e6d379c",
   "metadata": {},
   "outputs": [],
   "source": []
  },
  {
   "cell_type": "code",
   "execution_count": null,
   "id": "09b5d59e",
   "metadata": {},
   "outputs": [],
   "source": []
  },
  {
   "cell_type": "code",
   "execution_count": null,
   "id": "f900cee0",
   "metadata": {},
   "outputs": [],
   "source": []
  },
  {
   "cell_type": "code",
   "execution_count": null,
   "id": "7921c1ae",
   "metadata": {},
   "outputs": [],
   "source": []
  },
  {
   "cell_type": "code",
   "execution_count": null,
   "id": "253f09d1",
   "metadata": {},
   "outputs": [],
   "source": []
  }
 ],
 "metadata": {
  "kernelspec": {
   "display_name": "base",
   "language": "python",
   "name": "python3"
  },
  "language_info": {
   "codemirror_mode": {
    "name": "ipython",
    "version": 3
   },
   "file_extension": ".py",
   "mimetype": "text/x-python",
   "name": "python",
   "nbconvert_exporter": "python",
   "pygments_lexer": "ipython3",
   "version": "3.12.7"
  }
 },
 "nbformat": 4,
 "nbformat_minor": 5
}
