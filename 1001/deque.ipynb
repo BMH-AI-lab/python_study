{
 "cells": [
  {
   "cell_type": "code",
   "execution_count": null,
   "id": "d9e82ba1",
   "metadata": {},
   "outputs": [
    {
     "data": {
      "text/plain": [
       "False"
      ]
     },
     "execution_count": 6,
     "metadata": {},
     "output_type": "execute_result"
    }
   ],
   "source": [
    "# 회문검사 \n",
    "from collections import deque\n",
    "\n",
    "def is_dalindrome(s):\n",
    "    # 덱을 이용한 회문 검사 \n",
    "    dq = deque(s)\n",
    "\n",
    "    while len(dq) > 1:\n",
    "        left_ch = dq.popleft()\n",
    "        right_ch = dq.pop()\n",
    "        if left_ch != right_ch:\n",
    "            return False\n",
    "    return True\n",
    "\n",
    "\n",
    "is_dalindrome(\"level\") # True\n",
    "is_dalindrome(\"tomato\") # False\n"
   ]
  },
  {
   "cell_type": "code",
   "execution_count": null,
   "id": "60ddaece",
   "metadata": {},
   "outputs": [],
   "source": []
  }
 ],
 "metadata": {
  "kernelspec": {
   "display_name": "base",
   "language": "python",
   "name": "python3"
  },
  "language_info": {
   "codemirror_mode": {
    "name": "ipython",
    "version": 3
   },
   "file_extension": ".py",
   "mimetype": "text/x-python",
   "name": "python",
   "nbconvert_exporter": "python",
   "pygments_lexer": "ipython3",
   "version": "3.12.7"
  }
 },
 "nbformat": 4,
 "nbformat_minor": 5
}
