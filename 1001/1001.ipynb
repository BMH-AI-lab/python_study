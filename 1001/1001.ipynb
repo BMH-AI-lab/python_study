{
 "cells": [
  {
   "cell_type": "markdown",
   "id": "dc66efb3",
   "metadata": {},
   "source": []
  },
  {
   "cell_type": "code",
   "execution_count": null,
   "id": "4fd40f70",
   "metadata": {},
   "outputs": [],
   "source": []
  },
  {
   "cell_type": "code",
   "execution_count": null,
   "id": "a2640cee",
   "metadata": {},
   "outputs": [],
   "source": []
  },
  {
   "cell_type": "code",
   "execution_count": null,
   "id": "c60b9c3d",
   "metadata": {},
   "outputs": [],
   "source": []
  },
  {
   "cell_type": "code",
   "execution_count": null,
   "id": "55be7728",
   "metadata": {},
   "outputs": [],
   "source": []
  },
  {
   "cell_type": "code",
   "execution_count": null,
   "id": "b9b4a799",
   "metadata": {},
   "outputs": [],
   "source": []
  },
  {
   "cell_type": "code",
   "execution_count": 26,
   "id": "6c234a6a",
   "metadata": {},
   "outputs": [
    {
     "name": "stdout",
     "output_type": "stream",
     "text": [
      "[ 5 12 18  7]\n"
     ]
    }
   ],
   "source": [
    "import numpy as np\n",
    "arr = np.array([5, 12, 18, 7, 30, 25])\n",
    "arr_num = np.where(arr > 10) and (arr < 20)\n",
    "print(arr[arr_num])"
   ]
  },
  {
   "cell_type": "code",
   "execution_count": 37,
   "id": "a6934300",
   "metadata": {},
   "outputs": [
    {
     "name": "stdout",
     "output_type": "stream",
     "text": [
      "[10 15]\n"
     ]
    }
   ],
   "source": [
    "arr = np.array([10, 15, 20, 25, 30, 35])\n",
    "\n",
    "arr_num = np.where(arr <= 15) or (arr >= 30)\n",
    "print(arr[arr_num])"
   ]
  },
  {
   "cell_type": "code",
   "execution_count": 34,
   "id": "6a079678",
   "metadata": {},
   "outputs": [
    {
     "name": "stdout",
     "output_type": "stream",
     "text": [
      "[3 8 0 6 2 0]\n"
     ]
    }
   ],
   "source": [
    "arr = np.array([3, 8, 15, 6, 2, 20])\n",
    "arr_num = np.where(arr >= 10, 0, arr) \n",
    "\n",
    "print(arr_num)\n"
   ]
  },
  {
   "cell_type": "code",
   "execution_count": 40,
   "id": "dbcdfe28",
   "metadata": {},
   "outputs": [
    {
     "name": "stdout",
     "output_type": "stream",
     "text": [
      "['Low' 'Low' 'High' 'High' 'High']\n"
     ]
    }
   ],
   "source": [
    "arr = np.array([7, 14, 21, 28, 35])\n",
    "arr_num = np.where(arr >= 20, \"High\", \"Low\") \n",
    "\n",
    "print(arr_num)"
   ]
  },
  {
   "cell_type": "code",
   "execution_count": 41,
   "id": "6bedda69",
   "metadata": {},
   "outputs": [
    {
     "name": "stdout",
     "output_type": "stream",
     "text": [
      "[ 0 10  2 30  4 50  6 70  8 90]\n"
     ]
    }
   ],
   "source": [
    "arr = np.arange(0, 10)\n",
    "arr_num = np.where(arr % 2 == 1, arr * 10, arr)\n",
    "print(arr_num)"
   ]
  },
  {
   "cell_type": "code",
   "execution_count": 46,
   "id": "8381edc3",
   "metadata": {},
   "outputs": [
    {
     "name": "stdout",
     "output_type": "stream",
     "text": [
      "[[ 0 25 30]\n",
      " [40  0  0]\n",
      " [20 35  0]]\n"
     ]
    }
   ],
   "source": [
    "arr = np.array([[10, 25, 30],\n",
    "                [40, 5, 15],\n",
    "                [20, 35, 50]])\n",
    "arr_num = np.where((arr >= 20) & (arr <= 40), arr, 0)\n",
    "print(arr_num)"
   ]
  },
  {
   "cell_type": "code",
   "execution_count": 52,
   "id": "1ad86fe7",
   "metadata": {},
   "outputs": [
    {
     "name": "stdout",
     "output_type": "stream",
     "text": [
      "[1 2 0 4 5 0]\n"
     ]
    }
   ],
   "source": [
    "arr = np.array([1, 2, 3, 4, 5, 6])\n",
    "arr_num = np.where(~(arr  % 3 == 0), arr, 0)\n",
    "print(arr_num)"
   ]
  },
  {
   "cell_type": "code",
   "execution_count": 2,
   "id": "e926881b",
   "metadata": {},
   "outputs": [
    {
     "name": "stdout",
     "output_type": "stream",
     "text": [
      "[ 9 50 50 44 43 50  8 50 20  9]\n"
     ]
    }
   ],
   "source": [
    "import numpy as np\n",
    "from numpy.random import default_rng\n",
    "\n",
    "rng = np.random.default_rng(seed=42)\n",
    "arr = rng.integers(0, 101, size=10)\n",
    "arr_num = np.where(arr < 50, arr, 50)  \n",
    "print(arr_num)"
   ]
  },
  {
   "cell_type": "code",
   "execution_count": 6,
   "id": "f121b5b6",
   "metadata": {},
   "outputs": [
    {
     "name": "stdout",
     "output_type": "stream",
     "text": [
      "[['C' 'B' 'A']\n",
      " ['C' 'A' 'C']\n",
      " ['B' 'B' 'A']]\n"
     ]
    }
   ],
   "source": [
    "arr = np.array( [[5, 50, 95],\n",
    "                 [20, 75, 10],\n",
    "                 [60, 30, 85]])\n",
    "arr_num = arr_num = np.where(arr > 70, \"A\",\n",
    "          np.where((arr >= 30) & (arr < 70), \"B\", \"C\")) \n",
    "alpha = [\"A\", \"B\", \"C\"]\n",
    "print(arr_num)\n"
   ]
  },
  {
   "cell_type": "code",
   "execution_count": 15,
   "id": "e11ca4bf",
   "metadata": {},
   "outputs": [
    {
     "name": "stdout",
     "output_type": "stream",
     "text": [
      "[[12 12]\n",
      " [30 30]\n",
      " [48 48]]\n"
     ]
    }
   ],
   "source": [
    "arr1 = np.arange(1, 10).reshape(3, 3)\n",
    "arr2 = np.full((3, 2), 2)\n",
    "print(np.matmul(arr1, arr2))"
   ]
  },
  {
   "cell_type": "code",
   "execution_count": null,
   "id": "27a8d360",
   "metadata": {},
   "outputs": [
    {
     "name": "stdout",
     "output_type": "stream",
     "text": [
      "[[1 0 0 0]\n",
      " [0 1 0 0]\n",
      " [0 0 1 0]\n",
      " [0 0 0 1]]\n",
      "[[7 5 4 2]\n",
      " [0 1 4 1]\n",
      " [3 5 6 2]\n",
      " [3 5 7 3]]\n",
      "[[7 5 4 2]\n",
      " [0 1 4 1]\n",
      " [3 5 6 2]\n",
      " [3 5 7 3]]\n"
     ]
    }
   ],
   "source": [
    "import numpy as np\n",
    "from numpy.random import default_rng\n",
    "\n",
    "rng = default_rng(seed = 42)\n",
    "\n",
    "I = np.eye(4, dtype=int)\n",
    "M = np.random.randint(0, 10, (4, 4))\n",
    "print(I)\n",
    "print(M)\n",
    "print(np.matmul(I, M))"
   ]
  },
  {
   "cell_type": "code",
   "execution_count": 37,
   "id": "c9a2b68f",
   "metadata": {},
   "outputs": [
    {
     "name": "stdout",
     "output_type": "stream",
     "text": [
      "[[1 1 1 1 1]\n",
      " [1 1 1 1 1]]\n",
      "[[ 5  6]\n",
      " [ 7  8]\n",
      " [ 9 10]\n",
      " [11 12]\n",
      " [13 14]]\n",
      "[[45 50]\n",
      " [45 50]]\n"
     ]
    }
   ],
   "source": [
    "X_array = np.full((2, 5), 1)\n",
    "Y_array = np.arange(5, 15).reshape(5, 2)\n",
    "print(X_array)\n",
    "print(Y_array)\n",
    "print(np.matmul(X_array, Y_array))"
   ]
  },
  {
   "cell_type": "code",
   "execution_count": 44,
   "id": "8b1fcbb5",
   "metadata": {},
   "outputs": [
    {
     "name": "stdout",
     "output_type": "stream",
     "text": [
      "(3, 3)\n",
      "[[ 5 11 20]\n",
      " [ 6 16 24]\n",
      " [ 4 10 16]]\n"
     ]
    }
   ],
   "source": [
    "import numpy as np\n",
    "from numpy.random import default_rng\n",
    "\n",
    "rng = default_rng(seed = 42)\n",
    "\n",
    "C_array = np.random.randint(0, 5, (3, 2))\n",
    "D_array = np.random.randint(0, 5, (2, 3))\n",
    "print(np.matmul(C_array, D_array).shape)\n",
    "print(np.matmul(C_array, D_array))\n"
   ]
  },
  {
   "cell_type": "code",
   "execution_count": null,
   "id": "2de7fb99",
   "metadata": {},
   "outputs": [],
   "source": []
  },
  {
   "cell_type": "markdown",
   "id": "12cff394",
   "metadata": {},
   "source": []
  }
 ],
 "metadata": {
  "kernelspec": {
   "display_name": "base",
   "language": "python",
   "name": "python3"
  },
  "language_info": {
   "codemirror_mode": {
    "name": "ipython",
    "version": 3
   },
   "file_extension": ".py",
   "mimetype": "text/x-python",
   "name": "python",
   "nbconvert_exporter": "python",
   "pygments_lexer": "ipython3",
   "version": "3.12.7"
  }
 },
 "nbformat": 4,
 "nbformat_minor": 5
}
