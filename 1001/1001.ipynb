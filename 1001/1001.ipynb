{
 "cells": [
  {
   "cell_type": "markdown",
   "id": "dc66efb3",
   "metadata": {},
   "source": [
    "# **행렬의 논리연산과 조건 연산** \n",
    "\n",
    "+ 논리 연산자(AND, OR, NOT)와 조건 연산 함수를 사용해 배열 요소를 조건에 따라 선택하거나 값을 변경할 수 있음 \n",
    "+ np.where( )를 사용  "
   ]
  },
  {
   "cell_type": "markdown",
   "id": "1506f1b5",
   "metadata": {},
   "source": [
    "## **(1) 논리 연산과 조건 연산 실습** "
   ]
  },
  {
   "cell_type": "code",
   "execution_count": 1,
   "id": "4fd40f70",
   "metadata": {},
   "outputs": [
    {
     "name": "stdout",
     "output_type": "stream",
     "text": [
      "[ 5 12 18  7]\n"
     ]
    }
   ],
   "source": [
    "# 1번 \n",
    "import numpy as np\n",
    "arr_1d = np.array([5, 12, 18, 7, 30, 25])\n",
    "filter_1d = np.where(arr_1d > 10) and (arr_1d < 20)\n",
    "print(arr_1d[filter_1d])\n"
   ]
  },
  {
   "cell_type": "code",
   "execution_count": 2,
   "id": "a2640cee",
   "metadata": {},
   "outputs": [
    {
     "name": "stdout",
     "output_type": "stream",
     "text": [
      "[10 15 30 35]\n"
     ]
    }
   ],
   "source": [
    "# 2번 \n",
    "import numpy as np\n",
    "arr = np.array([10, 15, 20, 25, 30, 35])\n",
    "arr_num = (arr <= 15) | (arr >= 30)  \n",
    "print(arr[arr_num])"
   ]
  },
  {
   "cell_type": "code",
   "execution_count": 3,
   "id": "c60b9c3d",
   "metadata": {},
   "outputs": [
    {
     "name": "stdout",
     "output_type": "stream",
     "text": [
      "[3 8 0 6 2 0]\n"
     ]
    }
   ],
   "source": [
    "# 3번 \n",
    "import numpy as np\n",
    "arr = np.array([3, 8, 15, 6, 2, 20])\n",
    "arr_num = np.where(arr >= 10, 0, arr) \n",
    "\n",
    "print(arr_num)"
   ]
  },
  {
   "cell_type": "code",
   "execution_count": 4,
   "id": "55be7728",
   "metadata": {},
   "outputs": [
    {
     "name": "stdout",
     "output_type": "stream",
     "text": [
      "['Low' 'Low' 'High' 'High' 'High']\n"
     ]
    }
   ],
   "source": [
    "# 4번\n",
    "import numpy as np\n",
    "arr = np.array([7, 14, 21, 28, 35])\n",
    "arr_num = np.where(arr >= 20, \"High\", \"Low\") \n",
    "\n",
    "print(arr_num)"
   ]
  },
  {
   "cell_type": "code",
   "execution_count": 5,
   "id": "b9b4a799",
   "metadata": {},
   "outputs": [
    {
     "name": "stdout",
     "output_type": "stream",
     "text": [
      "[0 1 2 3 4 5 6 7 8 9]\n",
      "\n",
      "[ 0 10  2 30  4 50  6 70  8 90]\n"
     ]
    }
   ],
   "source": [
    "# 5번 \n",
    "import numpy as np\n",
    "arr = np.arange(0, 10)\n",
    "print(arr)\n",
    "print()\n",
    "arr_num = np.where(arr % 2 == 1, arr * 10, arr)\n",
    "print(arr_num)"
   ]
  },
  {
   "cell_type": "code",
   "execution_count": 6,
   "id": "e7daba06",
   "metadata": {},
   "outputs": [
    {
     "name": "stdout",
     "output_type": "stream",
     "text": [
      "[[10 25 30]\n",
      " [40  5 15]\n",
      " [20 35 50]]\n",
      "\n",
      "[25 30 40 20 35]\n"
     ]
    }
   ],
   "source": [
    "# 6번 \n",
    "import numpy as np\n",
    "arr = np.array([[10, 25, 30],\n",
    "       [40, 5, 15],\n",
    "       [20, 35, 50]])\n",
    "print(arr)\n",
    "print()\n",
    "arr_num = np.where((arr >= 20) & (arr <= 40))\n",
    "print(arr[arr_num])"
   ]
  },
  {
   "cell_type": "code",
   "execution_count": 7,
   "id": "41b810c9",
   "metadata": {},
   "outputs": [
    {
     "name": "stdout",
     "output_type": "stream",
     "text": [
      "[1 2 3 4 5 6]\n",
      "\n",
      "[1 2 4 5]\n"
     ]
    }
   ],
   "source": [
    "# 7번 \n",
    "import numpy as np\n",
    "arr = np.array([1, 2, 3, 4, 5, 6])\n",
    "print(arr)\n",
    "print()\n",
    "arr_num = np.where(~(arr  % 3 == 0))\n",
    "print(arr[arr_num])"
   ]
  },
  {
   "cell_type": "code",
   "execution_count": 8,
   "id": "206a9540",
   "metadata": {},
   "outputs": [
    {
     "name": "stdout",
     "output_type": "stream",
     "text": [
      "[ 9 78 66 44 43 86  8 70 20  9]\n",
      "\n",
      "[50 78 66 50 50 86 50 70 50 50]\n"
     ]
    }
   ],
   "source": [
    "# 8번\n",
    "import numpy as np\n",
    "from numpy.random import default_rng\n",
    "\n",
    "rng = np.random.default_rng(seed=42)\n",
    "arr = rng.integers(0, 101, size=10)\n",
    "print(arr)\n",
    "print()\n",
    "arr[arr < 50] = 50\n",
    "print(arr)\n"
   ]
  },
  {
   "cell_type": "code",
   "execution_count": 9,
   "id": "426f4b8b",
   "metadata": {},
   "outputs": [
    {
     "name": "stdout",
     "output_type": "stream",
     "text": [
      "[[ 5 50 95]\n",
      " [20 75 10]\n",
      " [60 30 85]]\n",
      "\n",
      "[['C' 'B' 'A']\n",
      " ['C' 'A' 'C']\n",
      " ['B' 'B' 'A']]\n"
     ]
    }
   ],
   "source": [
    "# 9번 \n",
    "import numpy as np\n",
    "arr = np.array([[5, 50, 95],\n",
    "                [20, 75, 10],\n",
    "                [60, 30, 85]])\n",
    "print(arr)\n",
    "print()\n",
    "\n",
    "arr_num = np.where(arr >= 70, \"A\",     \n",
    "          np.where((arr < 70) & (arr >= 30), \"B\", \"C\"))               \n",
    "print(arr_num)\n"
   ]
  },
  {
   "cell_type": "markdown",
   "id": "b42837db",
   "metadata": {},
   "source": [
    "# **행렬의 곱셈** "
   ]
  },
  {
   "cell_type": "code",
   "execution_count": 52,
   "id": "979db63e",
   "metadata": {},
   "outputs": [
    {
     "name": "stdout",
     "output_type": "stream",
     "text": [
      "[[1 2 3]\n",
      " [4 5 6]\n",
      " [7 8 9]]\n",
      "[[2 2]\n",
      " [2 2]\n",
      " [2 2]]\n",
      "[[12 12]\n",
      " [30 30]\n",
      " [48 48]]\n"
     ]
    }
   ],
   "source": [
    "import numpy as np\n",
    "arr1 = np.arange(1, 10).reshape(3, 3)\n",
    "arr2 = np.full((3, 2), 2)\n",
    "\n",
    "print(arr1)\n",
    "print(arr2)\n",
    "print(np.matmul(arr1, arr2))"
   ]
  },
  {
   "cell_type": "code",
   "execution_count": 53,
   "id": "38bbb83c",
   "metadata": {},
   "outputs": [
    {
     "name": "stdout",
     "output_type": "stream",
     "text": [
      "[[1 0 0 0]\n",
      " [0 1 0 0]\n",
      " [0 0 1 0]\n",
      " [0 0 0 1]]\n",
      "[[0 8 2 4]\n",
      " [6 4 4 7]\n",
      " [0 8 9 8]\n",
      " [2 1 0 8]]\n",
      "[[0 8 2 4]\n",
      " [6 4 4 7]\n",
      " [0 8 9 8]\n",
      " [2 1 0 8]]\n"
     ]
    }
   ],
   "source": [
    "import numpy as np\n",
    "from numpy.random import default_rng\n",
    "\n",
    "rng = default_rng(seed = 42)\n",
    "\n",
    "I = np.eye(4, dtype=int)\n",
    "M = np.random.randint(0, 10, (4, 4))\n",
    "print(I)\n",
    "print(M)\n",
    "print(np.matmul(I, M))"
   ]
  },
  {
   "cell_type": "code",
   "execution_count": 54,
   "id": "d9570d83",
   "metadata": {},
   "outputs": [
    {
     "name": "stdout",
     "output_type": "stream",
     "text": [
      "[[1 1 1 1 1]\n",
      " [1 1 1 1 1]]\n",
      "[[ 5  6]\n",
      " [ 7  8]\n",
      " [ 9 10]\n",
      " [11 12]\n",
      " [13 14]]\n",
      "[[45 50]\n",
      " [45 50]]\n"
     ]
    }
   ],
   "source": [
    "X_array = np.full((2, 5), 1)\n",
    "Y_array = np.arange(5, 15).reshape(5, 2)\n",
    "print(X_array)\n",
    "print(Y_array)\n",
    "print(np.matmul(X_array, Y_array))"
   ]
  },
  {
   "cell_type": "code",
   "execution_count": 55,
   "id": "3a9ebca2",
   "metadata": {},
   "outputs": [
    {
     "name": "stdout",
     "output_type": "stream",
     "text": [
      "(3, 3)\n",
      "[[ 4 11  3]\n",
      " [ 2  4  0]\n",
      " [ 8 16  0]]\n"
     ]
    }
   ],
   "source": [
    "import numpy as np\n",
    "\n",
    "C_array = np.random.randint(0, 5, (3, 2))\n",
    "D_array = np.random.randint(0, 5, (2, 3))\n",
    "print(np.matmul(C_array, D_array).shape)\n",
    "print(np.matmul(C_array, D_array))"
   ]
  },
  {
   "cell_type": "markdown",
   "id": "a73f55d1",
   "metadata": {},
   "source": [
    "# **배열 형태**\n",
    "+ array.reshape(newshape)\n",
    "+ array.ravel()\n",
    "+ array.flatten()\n",
    "+ np.expand_dims(a, axis)\n",
    "+ np.squeeze(a, axis=None)\n",
    "+ np.squeeze(a, axis)\n",
    "+ np.unique(ar, return_index=False, return_inverse=False return_counts=False, axis=None)\n",
    "\n",
    "\n",
    "+ 차원 추가와 제거 \n",
    "    + newaxis와 expand_dims\n",
    "        + 새로운 차원을 추가하여 브로드 캐스팅이나 연산을 가능하게 해줌"
   ]
  },
  {
   "cell_type": "code",
   "execution_count": 56,
   "id": "b135c943",
   "metadata": {},
   "outputs": [
    {
     "name": "stdout",
     "output_type": "stream",
     "text": [
      "원본: \n",
      " [1 2 3 4 5]\n",
      "모양:  (5,)\n",
      "행 벡터: \n",
      " [[1 2 3 4 5]]\n",
      "행 벡터 shape (1, 5)\n",
      "열 벡터: \n",
      " [[1]\n",
      " [2]\n",
      " [3]\n",
      " [4]\n",
      " [5]]\n",
      "열 벡터 shape (5, 1)\n"
     ]
    }
   ],
   "source": [
    "import numpy as np\n",
    "\n",
    "arr = np.array([1, 2, 3, 4, 5])\n",
    "print(\"원본: \\n\", arr)\n",
    "print(\"모양: \", arr.shape)\n",
    "\n",
    "# newaxis\n",
    "row_vec = arr[np.newaxis, :]\n",
    "print(\"행 벡터: \\n\", row_vec)\n",
    "print(\"행 벡터 shape\", row_vec.shape)\n",
    "\n",
    "col_vec = arr[:, np.newaxis]\n",
    "print(\"열 벡터: \\n\", col_vec)\n",
    "print(\"열 벡터 shape\", col_vec.shape)"
   ]
  },
  {
   "cell_type": "code",
   "execution_count": 57,
   "id": "abef87a7",
   "metadata": {},
   "outputs": [
    {
     "name": "stdout",
     "output_type": "stream",
     "text": [
      "axis=0 \n",
      " [[1 2 3 4 5]]\n",
      "\n",
      "axis=1 \n",
      " [[1]\n",
      " [2]\n",
      " [3]\n",
      " [4]\n",
      " [5]]\n",
      "\n",
      "원본: \n",
      " [[[1 2 3]]]\n",
      "모양:  (1, 1, 3)\n",
      "squeeze \n",
      " [1 2 3]\n",
      "squeeze 모양: \n",
      " (3,)\n",
      "\n",
      "squeeze \n",
      " [[1 2 3]]\n",
      "squeeze 모양: \n",
      " (1, 3)\n",
      "\n",
      "squeeze \n",
      " [[1 2 3]]\n",
      "squeeze 모양: \n",
      " (1, 3)\n",
      "\n"
     ]
    }
   ],
   "source": [
    "arr = np.array([1, 2, 3, 4, 5])\n",
    "arr_extended0 = np.expand_dims(arr, axis=0)\n",
    "print(\"axis=0 \\n\", arr_extended0)\n",
    "print()\n",
    "\n",
    "arr_extended0 = np.expand_dims(arr, axis=1)\n",
    "print(\"axis=1 \\n\", arr_extended0)\n",
    "print()\n",
    "\n",
    "arr = np.array([[[1, 2, 3]]])\n",
    "print(\"원본: \\n\", arr)\n",
    "print(\"모양: \", arr.shape)\n",
    "\n",
    "squeezed = np.squeeze(arr)\n",
    "print(\"squeeze \\n\", squeezed)\n",
    "print(\"squeeze 모양: \\n\", squeezed.shape)\n",
    "print() \n",
    "\n",
    "squeezed0 = np.squeeze(arr, axis=0)\n",
    "print(\"squeeze \\n\", squeezed0)\n",
    "print(\"squeeze 모양: \\n\", squeezed0.shape)\n",
    "print()\n",
    "\n",
    "squeezed1 = np.squeeze(arr, axis=1)\n",
    "print(\"squeeze \\n\", squeezed1)\n",
    "print(\"squeeze 모양: \\n\", squeezed1.shape)\n",
    "print()\n",
    "\n"
   ]
  },
  {
   "cell_type": "code",
   "execution_count": 90,
   "id": "f41796b8",
   "metadata": {},
   "outputs": [
    {
     "name": "stdout",
     "output_type": "stream",
     "text": [
      "2차원 배열\n",
      "[[1 2 3]\n",
      " [4 5 6]\n",
      " [7 8 9]]\n",
      "flatten 결과:  [1 2 3 4 5 6 7 8 9]\n",
      "\n",
      "ravel 결과:  [1 2 3 4 5 6 7 8 9]\n",
      "\n",
      "ravel 결과:  [999   2   3   4   5   6   7   8   9]\n",
      "ravel.copy 결과:  [999 999   3   4   5   6   7   8   9]\n",
      "\n",
      "고유값:  [1 2 3 4 5 6 7 8 9]\n",
      "첫 인덱스:  [0 1 2 3 4 5 6 7 8]\n",
      "원본 -> 고유값 인덱스:  [0 1 2 3 4 5 6 7 8 2 3 4 2 6 4 8 0]\n",
      "등장횟수:  [2 1 3 2 3 1 2 1 2]\n"
     ]
    }
   ],
   "source": [
    "# 배열 평탄화 \n",
    "# flatten: 복사본 반환\n",
    "# ravel: 원본 반환\n",
    "\n",
    "\n",
    "arr = np.array([[1, 2, 3], \n",
    "                [4, 5, 6], \n",
    "                [7, 8, 9]])\n",
    "\n",
    "print(\"2차원 배열\")\n",
    "print(arr)\n",
    "\n",
    "flattened = arr.flatten()\n",
    "print(\"flatten 결과: \", flattened)\n",
    "print()\n",
    "\n",
    "raveled = arr.ravel()\n",
    "print(\"ravel 결과: \", raveled)\n",
    "raveled[0] = 999\n",
    "print()\n",
    "\n",
    "raveled = arr.ravel().copy()\n",
    "print(\"ravel 결과: \", raveled)\n",
    "raveled[1] = 999\n",
    "print(\"ravel.copy 결과: \", raveled)\n",
    "print()\n",
    "\n",
    "\n",
    "arr = np.array([1, 2, 3, 4, 5, 6, 7, 8, 9, 3, 4, 5, 3, 7, 5, 9, 1])\n",
    "# uniq = np.unique(arr, return_index=True, \n",
    "#                 return_inverse=True, \n",
    "#                 return_counts=True)\n",
    "uniq, idx, inv, cnt = np.unique(arr, return_index=True, \n",
    "                 return_inverse=True, \n",
    "                 return_counts=True)\n",
    "\n",
    "\n",
    "print(\"고유값: \", uniq)\n",
    "print(\"첫 인덱스: \", idx)\n",
    "print(\"원본 -> 고유값 인덱스: \", inv)\n",
    "print(\"등장횟수: \", cnt)"
   ]
  },
  {
   "cell_type": "code",
   "execution_count": 78,
   "id": "4da28b4c",
   "metadata": {},
   "outputs": [
    {
     "name": "stdout",
     "output_type": "stream",
     "text": [
      "원본: \n",
      " [[10 20]\n",
      " [30 40]\n",
      " [50 60]]\n",
      "ravel:  [10 20 30 40 50 60]\n",
      "flatten:  [10 20 30 40 50 60]\n",
      "\n",
      "<arr의 첫 번째 원소(arr[0,0])를 999로 바꾼 결과>\n",
      " [[999  20]\n",
      " [ 30  40]\n",
      " [ 50  60]]\n",
      "999로 바꾼 뒤 ravel 결과:  [999  20  30  40  50  60]\n",
      "999로 바꾼 뒤 flatten 결과:  [999  20  30  40  50  60]\n"
     ]
    }
   ],
   "source": [
    "import numpy as np\n",
    "\n",
    "arr = np.array([[10, 20], [30, 40], [50, 60]])\n",
    "rav = arr.ravel()\n",
    "flat = arr.flatten()\n",
    "print(\"원본: \\n\", arr)\n",
    "print(\"ravel: \", rav)\n",
    "print(\"flatten: \", flat)\n",
    "print()\n",
    "arr[0, 0] = 999\n",
    "print(\"<arr의 첫 번째 원소(arr[0,0])를 999로 바꾼 결과>\\n\", arr)\n",
    "rav = arr.ravel()\n",
    "flat = arr.flatten()\n",
    "print(\"999로 바꾼 뒤 ravel 결과: \", rav)\n",
    "print(\"999로 바꾼 뒤 flatten 결과: \", flat)\n"
   ]
  },
  {
   "cell_type": "code",
   "execution_count": 79,
   "id": "e614afa0",
   "metadata": {},
   "outputs": [
    {
     "name": "stdout",
     "output_type": "stream",
     "text": [
      "shape:  (1, 32, 32)\n",
      "\n"
     ]
    }
   ],
   "source": [
    "import numpy as np\n",
    "\n",
    "img= np.random.rand(32, 32)\n",
    "img_extended = np.expand_dims(img, axis=0)\n",
    "print(\"shape: \", img_extended.shape)\n",
    "print()"
   ]
  },
  {
   "cell_type": "code",
   "execution_count": 80,
   "id": "47f5cd22",
   "metadata": {},
   "outputs": [
    {
     "name": "stdout",
     "output_type": "stream",
     "text": [
      "squeeze:  (28, 28)\n"
     ]
    }
   ],
   "source": [
    "import numpy as np\n",
    "\n",
    "img= np.random.randint(0, 255, (1, 28, 28, 1))\n",
    "squeezed1 = np.squeeze(img)\n",
    "print(\"squeeze: \", squeezed1.shape)"
   ]
  },
  {
   "cell_type": "code",
   "execution_count": 81,
   "id": "7a7543ad",
   "metadata": {},
   "outputs": [
    {
     "name": "stdout",
     "output_type": "stream",
     "text": [
      "1차원 배열:  [3 1 2 2 1 2 3 1 2 2 1 4]\n",
      "중복값을 제거:  [1 2 3 4]\n",
      "shape (1, n)으로 재구성 결과:  (1, 4)\n"
     ]
    }
   ],
   "source": [
    "import numpy as np \n",
    "arr = np.array([[3, 1, 2, 2],\n",
    "                [1, 2, 3, 1],\n",
    "                [2, 2, 1, 4]])\n",
    "flat = arr.flatten()\n",
    "print(\"1차원 배열: \", flat)\n",
    "uniq = np.unique(flat)\n",
    "print(\"중복값을 제거: \", uniq)\n",
    "uniq_reshaped = uniq.reshape(1, -1)\n",
    "print(\"shape (1, n)으로 재구성 결과: \", uniq_reshaped.shape)\n"
   ]
  },
  {
   "cell_type": "code",
   "execution_count": 111,
   "id": "29849510",
   "metadata": {},
   "outputs": [
    {
     "name": "stdout",
     "output_type": "stream",
     "text": [
      "shape:  (1, 10, 1)\n",
      "재구성한 shape:  (10,)\n",
      "고유값 배열:  [0 2 1 0 2 1 2 0 1 2]\n"
     ]
    }
   ],
   "source": [
    "arr = np.array([[[1], [3], [2], [1], [3], [2], [3], [1], [2], [3]]]) # shape (1, 10, 1)\n",
    "print(\"shape: \", arr.shape)\n",
    "arr_squeeze = arr.squeeze()\n",
    "print(\"재구성한 shape: \", arr_squeeze.shape)\n",
    "uniq, inv = np.unique(arr_squeeze, return_inverse = True)\n",
    "print(\"고유값 배열: \", inv)"
   ]
  },
  {
   "cell_type": "code",
   "execution_count": 127,
   "id": "2de7fb99",
   "metadata": {},
   "outputs": [
    {
     "name": "stdout",
     "output_type": "stream",
     "text": [
      "[0 1 2 3 1 2 3 4 2 3 4 5 3 4 5 6 4 5 6 7 5 6 7 8]\n",
      "\n",
      "고유값 추출:  [0 1 2 3 4 5 6 7 8]\n",
      "\n",
      "shape(고유값 개수, 1) 결과:  (9, 1)\n",
      "\n",
      "shape(고유값 개수, 1)인 2차원 배열: \n",
      " [[0]\n",
      " [1]\n",
      " [2]\n",
      " [3]\n",
      " [4]\n",
      " [5]\n",
      " [6]\n",
      " [7]\n",
      " [8]]\n"
     ]
    }
   ],
   "source": [
    "arr = np.array([ [[0, 1, 2, 3], [1, 2, 3, 4], [2, 3, 4, 5]],\n",
    "                [[3, 4, 5, 6], [4, 5, 6, 7], [5, 6, 7, 8]] ])  # shape (2, 3, 4)\n",
    "\n",
    "arr_1d = arr.ravel()\n",
    "print(arr_1d)\n",
    "print()\n",
    "uniq = np.unique(arr_1d)\n",
    "print(\"고유값 추출: \", uniq)\n",
    "print()\n",
    "uniq_reshaped = uniq.reshape(-1, 1)\n",
    "print(\"shape(고유값 개수, 1) 결과: \", uniq_reshaped.shape)\n",
    "print()\n",
    "print(\"shape(고유값 개수, 1)인 2차원 배열: \\n\", uniq_reshaped)"
   ]
  },
  {
   "cell_type": "code",
   "execution_count": 96,
   "id": "800d9c4c",
   "metadata": {},
   "outputs": [
    {
     "name": "stdout",
     "output_type": "stream",
     "text": [
      "결함 결과:  [1 2 3 4 5 6 7 8 9]\n",
      "axis = 0 (수직결합)\n",
      "[[1 2]\n",
      " [3 4]\n",
      " [5 6]\n",
      " [7 8]]\n",
      "(4, 2)\n",
      "axis = 1 (수평결합)\n",
      "[[1 2 5 6]\n",
      " [3 4 7 8]]\n",
      "(2, 4)\n"
     ]
    }
   ],
   "source": [
    "# 배열 결합 \n",
    "a = np.array([1, 2, 3])\n",
    "b = np.array([4, 5, 6])\n",
    "c = np.array([7, 8, 9])\n",
    "\n",
    "concat_1d = np.concatenate([a, b, c])\n",
    "print(\"결함 결과: \", concat_1d)\n",
    "\n",
    "A = np.array([[1, 2], [3, 4]])\n",
    "B = np.array([[5, 6], [7, 8]])\n",
    "\n",
    "concat_v = np.concatenate([A, B], axis=0)\n",
    "print(\"axis = 0 (수직결합)\")\n",
    "print(concat_v)\n",
    "print(concat_v.shape)\n",
    "\n",
    "concat_h = np.concatenate([A, B], axis=1)\n",
    "print(\"axis = 1 (수평결합)\")\n",
    "print(concat_h)\n",
    "print(concat_h.shape)\n"
   ]
  },
  {
   "cell_type": "code",
   "execution_count": 135,
   "id": "98f48b9c",
   "metadata": {},
   "outputs": [
    {
     "name": "stdout",
     "output_type": "stream",
     "text": [
      "결함 결과: \n",
      " [[1 2]\n",
      " [3 4]\n",
      " [5 6]]\n"
     ]
    }
   ],
   "source": [
    "a = np.array([[1, 2], [3, 4]])\n",
    "b = np.array([[5, 6]])\n",
    "concat_arr = np.concatenate((a, b), axis=0)\n",
    "print(\"결함 결과: \\n\", concat_arr)"
   ]
  },
  {
   "cell_type": "code",
   "execution_count": 136,
   "id": "08c27cc9",
   "metadata": {},
   "outputs": [
    {
     "name": "stdout",
     "output_type": "stream",
     "text": [
      "[array([0, 1, 2, 3]), array([4, 5, 6, 7]), array([ 8,  9, 10, 11])]\n"
     ]
    }
   ],
   "source": [
    "a = np.arange(12)\n",
    "spilt_arr = np.split(a, 3)\n",
    "print(spilt_arr)"
   ]
  },
  {
   "cell_type": "code",
   "execution_count": 157,
   "id": "3aefe4e3",
   "metadata": {},
   "outputs": [
    {
     "name": "stdout",
     "output_type": "stream",
     "text": [
      "shape이 (3, 2)인 배열 생성: \n",
      " [[1 2]\n",
      " [3 4]\n",
      " [5 6]]\n",
      "\n",
      "shape:  (3, 2)\n"
     ]
    }
   ],
   "source": [
    "a = np.array([1, 2])\n",
    "b = np.array([3, 4])\n",
    "c = np.array([5, 6])\n",
    "v = np.vstack((a, b, c))\n",
    "print(\"shape이 (3, 2)인 배열 생성: \\n\", v)\n",
    "print()\n",
    "print(\"shape: \", v.shape)"
   ]
  },
  {
   "cell_type": "code",
   "execution_count": 169,
   "id": "23f5ef91",
   "metadata": {},
   "outputs": [
    {
     "name": "stdout",
     "output_type": "stream",
     "text": [
      "shape (2, 2, 3)인 3차원 배열: \n",
      " [[[ 1  7]\n",
      "  [ 2  8]\n",
      "  [ 3  9]]\n",
      "\n",
      " [[ 4 10]\n",
      "  [ 5 11]\n",
      "  [ 6 12]]]\n",
      "\n",
      "shape: (2, 3, 2)\n"
     ]
    }
   ],
   "source": [
    "a = np.array([[1, 2, 3], [4, 5, 6]])\n",
    "b = np.array([[7, 8, 9], [10, 11, 12]])\n",
    "arr_cont = np.concatenate((a, b))\n",
    "arr_stack = np.stack((a, b), axis=2)\n",
    "print(\"shape (2, 2, 3)인 3차원 배열: \\n\", arr_stack)\n",
    "print()\n",
    "print(\"shape:\", arr_stack.shape)"
   ]
  },
  {
   "cell_type": "code",
   "execution_count": 175,
   "id": "f82f1ee7",
   "metadata": {},
   "outputs": [
    {
     "name": "stdout",
     "output_type": "stream",
     "text": [
      "[array([0, 1]), array([2, 3, 4]), array([5, 6, 7])]\n"
     ]
    }
   ],
   "source": [
    "import numpy as np\n",
    "\n",
    "arr = np.arange(8)\n",
    "ratios = [2, 3, 3]\n",
    "splits = np.cumsum(ratios)[:-1] \n",
    "\n",
    "arr_split = np.split(arr, splits)\n",
    "print(arr_split)"
   ]
  },
  {
   "cell_type": "code",
   "execution_count": 173,
   "id": "3d162e54",
   "metadata": {},
   "outputs": [
    {
     "name": "stdout",
     "output_type": "stream",
     "text": [
      "[[[1. 1. 1.]\n",
      "  [1. 1. 1.]]\n",
      "\n",
      " [[0. 0. 0.]\n",
      "  [0. 0. 0.]]]\n",
      "(2, 2, 3)\n",
      "\n",
      "[[[1. 1. 1.]\n",
      "  [0. 0. 0.]]\n",
      "\n",
      " [[1. 1. 1.]\n",
      "  [0. 0. 0.]]]\n",
      "(2, 2, 3)\n"
     ]
    }
   ],
   "source": [
    "a = np.ones((2, 3))\n",
    "b = np.zeros((2, 3))\n",
    "\n",
    "one_stack = np.stack((a, b), axis=0)\n",
    "two_stack = np.stack((a, b), axis=1)\n",
    "print(one_stack)\n",
    "print(one_stack.shape)\n",
    "print()\n",
    "print(two_stack)\n",
    "print(two_stack.shape)\n"
   ]
  },
  {
   "cell_type": "code",
   "execution_count": null,
   "id": "7ec7c2db",
   "metadata": {},
   "outputs": [],
   "source": [
    "arr = np.array([7, 2, 9, 4, 5])"
   ]
  },
  {
   "cell_type": "code",
   "execution_count": null,
   "id": "af66d67c",
   "metadata": {},
   "outputs": [],
   "source": [
    "# NumPy 차원 추가, 제거, 배열 조작 완전 가이드\n",
    "\n",
    "import numpy as np\n",
    "\n",
    "# ============================================================================\n",
    "# 1. 차원 추가: np.newaxis\n",
    "# ============================================================================\n",
    "'''\n",
    "개념 설명:\n",
    "    - np.newaxis: 배열에 새로운 차원(축)을 추가\n",
    "    - 1차원 배열을 2차원으로 변환할 때 주로 사용\n",
    "    - 브로드캐스팅이나 행렬 연산을 위해 차원을 맞출 때 필요\n",
    "    \n",
    "사용 목적:\n",
    "    - 행 벡터 생성: (5,) → (1, 5)\n",
    "    - 열 벡터 생성: (5,) → (5, 1)\n",
    "    - 차원 호환을 위한 shape 조정\n",
    "'''\n",
    "\n",
    "arr = np.array([1, 2, 3, 4, 5])\n",
    "print('원본 배열:', arr)\n",
    "print('원본 shape:', arr.shape)  # (5,) - 1차원 배열\n",
    "print()\n",
    "\n",
    "# 행 벡터로 변환: 앞에 차원 추가\n",
    "# [1, 2, 3, 4, 5] → [[1, 2, 3, 4, 5]]\n",
    "row_vec = arr[np.newaxis, :]\n",
    "print('행 벡터:\\n', row_vec)\n",
    "print('행 벡터 shape:', row_vec.shape)  # (1, 5) - 1행 5열\n",
    "print()\n",
    "\n",
    "# 열 벡터로 변환: 뒤에 차원 추가\n",
    "# [1, 2, 3, 4, 5] → [[1], [2], [3], [4], [5]]\n",
    "col_vec = arr[:, np.newaxis]\n",
    "print('열 벡터:\\n', col_vec)\n",
    "print('열 벡터 shape:', col_vec.shape)  # (5, 1) - 5행 1열\n",
    "print()\n",
    "\n",
    "# ============================================================================\n",
    "# 2. 차원 추가: np.expand_dims\n",
    "# ============================================================================\n",
    "'''\n",
    "개념 설명:\n",
    "    - np.expand_dims: 지정한 위치에 새로운 차원 추가\n",
    "    - axis 매개변수로 어디에 차원을 추가할지 지정\n",
    "    - np.newaxis보다 명시적이고 가독성이 좋음\n",
    "    \n",
    "axis 이해:\n",
    "    - axis=0: 맨 앞에 차원 추가 (행 추가)\n",
    "    - axis=1: 두 번째 위치에 차원 추가 (열 추가)\n",
    "    - axis=-1: 맨 뒤에 차원 추가\n",
    "'''\n",
    "\n",
    "arr = np.array([1, 2, 3, 4, 5])\n",
    "print('원본:', arr, '- shape:', arr.shape)  # (5,)\n",
    "print()\n",
    "\n",
    "# axis=0: 첫 번째 축에 차원 추가\n",
    "# (5,) → (1, 5)\n",
    "arr_expanded0 = np.expand_dims(arr, axis=0)\n",
    "print('axis=0:\\n', arr_expanded0)\n",
    "print('shape:', arr_expanded0.shape)  # (1, 5)\n",
    "print()\n",
    "\n",
    "# axis=1: 두 번째 축에 차원 추가\n",
    "# (5,) → (5, 1)\n",
    "arr_expanded1 = np.expand_dims(arr, axis=1)\n",
    "print('axis=1:\\n', arr_expanded1)\n",
    "print('shape:', arr_expanded1.shape)  # (5, 1)\n",
    "print()\n",
    "\n",
    "# ============================================================================\n",
    "# 3. 차원 제거: np.squeeze\n",
    "# ============================================================================\n",
    "'''\n",
    "개념 설명:\n",
    "    - np.squeeze: 크기가 1인 차원을 제거\n",
    "    - (1, 5, 1) → (5,) 처럼 불필요한 차원 제거\n",
    "    - axis를 지정하면 특정 차원만 제거 가능\n",
    "    \n",
    "사용 목적:\n",
    "    - 신경망 출력에서 배치 차원 제거\n",
    "    - 불필요하게 추가된 차원 정리\n",
    "    - 차원 단순화로 연산 효율 개선\n",
    "'''\n",
    "\n",
    "arr = np.array([[[1, 2, 3]]])  # 3차원 배열\n",
    "print('원본:\\n', arr)\n",
    "print('원본 shape:', arr.shape)  # (1, 1, 3)\n",
    "print()\n",
    "\n",
    "# 모든 크기 1인 차원 제거\n",
    "# (1, 1, 3) → (3,)\n",
    "squeezed = np.squeeze(arr)\n",
    "print('squeeze 후:\\n', squeezed)\n",
    "print('shape:', squeezed.shape)  # (3,)\n",
    "print()\n",
    "\n",
    "# 특정 축만 제거: axis=0\n",
    "# (1, 1, 3) → (1, 3)\n",
    "squeezed0 = np.squeeze(arr, axis=0)\n",
    "print('axis=0 squeeze:\\n', squeezed0)\n",
    "print('shape:', squeezed0.shape)  # (1, 3)\n",
    "print()\n",
    "\n",
    "# 주의: 크기가 1이 아닌 차원을 squeeze하면 에러\n",
    "# squeezed2 = np.squeeze(arr, axis=2)  # ValueError: 크기가 1이 아님\n",
    "print()\n",
    "\n",
    "# ============================================================================\n",
    "# 4. 배열 평탄화 (Flattening)\n",
    "# ============================================================================\n",
    "'''\n",
    "개념 설명:\n",
    "    - flatten: 다차원 배열을 1차원으로 변환\n",
    "    - 항상 복사본(copy)을 반환 - 원본은 변경되지 않음\n",
    "    - 메모리를 더 사용하지만 안전함\n",
    "    \n",
    "    - ravel: 다차원 배열을 1차원으로 변환\n",
    "    - 가능하면 뷰(view)를 반환 - 원본과 메모리 공유\n",
    "    - 빠르지만 원본이 변경될 수 있어 주의 필요\n",
    "    \n",
    "선택 기준:\n",
    "    - 원본 보호 필요 → flatten() 사용\n",
    "    - 성능 중요 → ravel() 사용 (단, 의도치 않은 변경 주의)\n",
    "'''\n",
    "\n",
    "arr = np.array([\n",
    "    [1, 2, 3],\n",
    "    [4, 5, 6],\n",
    "    [7, 8, 9]\n",
    "])\n",
    "\n",
    "print('원본 2차원 배열:')\n",
    "print(arr)\n",
    "print()\n",
    "\n",
    "# flatten: 복사본 반환\n",
    "flattened = arr.flatten()\n",
    "print('flatten 결과:', flattened)  # [1 2 3 4 5 6 7 8 9]\n",
    "\n",
    "# flatten으로 만든 배열 수정 → 원본 영향 없음\n",
    "flattened[0] = 999\n",
    "print()\n",
    "print('원본 배열 (변경 없음):')\n",
    "print(arr)  # 원본은 그대로 1\n",
    "print('flatten 배열:', flattened)  # 999로 변경됨\n",
    "print()\n",
    "\n",
    "# ravel: 뷰 반환 (원본 메모리 공유)\n",
    "raveled = arr.ravel()\n",
    "print('ravel 결과:', raveled)\n",
    "\n",
    "# ravel로 만든 배열 수정 → 원본도 변경됨!\n",
    "raveled[0] = 999\n",
    "print()\n",
    "print('원본 배열 (변경됨!):')\n",
    "print(arr)  # 원본도 999로 변경됨\n",
    "print('ravel 배열:', raveled)\n",
    "print()\n",
    "\n",
    "# ravel을 사용하되 복사본이 필요한 경우\n",
    "raveled_copy = arr.ravel().copy()\n",
    "raveled_copy[1] = 888\n",
    "\n",
    "print('원본 배열:')\n",
    "print(arr)  # 999는 유지, 888은 영향 없음\n",
    "print('ravel().copy() 배열:', raveled_copy)\n",
    "print()\n",
    "\n",
    "# ============================================================================\n",
    "# 5. 고유값 찾기: np.unique\n",
    "# ============================================================================\n",
    "'''\n",
    "개념 설명:\n",
    "    - np.unique: 배열에서 중복을 제거하고 고유한 값만 반환\n",
    "    - 자동으로 정렬된 결과 반환\n",
    "    - 다양한 옵션으로 추가 정보 제공\n",
    "    \n",
    "매개변수:\n",
    "    - return_index=True: 각 고유값의 첫 등장 인덱스\n",
    "    - return_inverse=True: 원본을 고유값 인덱스로 변환하는 배열\n",
    "    - return_counts=True: 각 고유값의 등장 횟수\n",
    "'''\n",
    "\n",
    "arr = np.array([1, 2, 3, 2, 1, 3, 2, 3, 1, 4, 2, 5, 3, 12, 5])\n",
    "print('원본 배열:', arr)\n",
    "print()\n",
    "\n",
    "# 기본 사용: 중복 제거 + 정렬\n",
    "uniq = np.unique(arr)\n",
    "print('고유값만:', uniq)  # [1 2 3 4 5 12]\n",
    "print()\n",
    "\n",
    "# 모든 정보 반환\n",
    "uniq, idx, inv, cnt = np.unique(arr,\n",
    "                                return_index=True,\n",
    "                                return_inverse=True,\n",
    "                                return_counts=True)\n",
    "\n",
    "print('고유값:', uniq)                    # [1 2 3 4 5 12]\n",
    "print('첫 등장 인덱스:', idx)            # [0 1 2 9 11 13]\n",
    "print('원본→고유값 인덱스:', inv)        # 원본 각 요소가 고유값 배열의 몇 번째인지\n",
    "print('등장 횟수:', cnt)                 # [3 4 4 1 2 1]\n",
    "\n",
    "# inverse 이해하기:\n",
    "# 원본 [1, 2, 3, 2, 1, ...]\n",
    "# → inverse [0, 1, 2, 1, 0, ...] (고유값 배열에서의 인덱스)\n",
    "# uniq[inv] 하면 원본 배열을 복원할 수 있음\n",
    "print()\n",
    "\n",
    "# ============================================================================\n",
    "# 6. 배열 결합 (Concatenation)\n",
    "# ============================================================================\n",
    "'''\n",
    "개념 설명:\n",
    "    - np.concatenate: 여러 배열을 하나로 연결\n",
    "    - 같은 차원의 배열들을 특정 축(axis)을 따라 이어붙임\n",
    "    - 결합할 배열들은 결합 축을 제외한 나머지 차원이 일치해야 함\n",
    "    \n",
    "axis 이해:\n",
    "    - axis=0: 세로 방향 결합 (행 추가)\n",
    "    - axis=1: 가로 방향 결합 (열 추가)\n",
    "'''\n",
    "\n",
    "# 1차원 배열 결합\n",
    "a = np.array([1, 2, 3])\n",
    "b = np.array([4, 5, 6])\n",
    "c = np.array([7, 8, 9])\n",
    "\n",
    "concat_1d = np.concatenate([a, b, c])\n",
    "print('1차원 배열 결합:', concat_1d)  # [1 2 3 4 5 6 7 8 9]\n",
    "print()\n",
    "\n",
    "# 2차원 배열 결합\n",
    "A = np.array([\n",
    "    [1, 2, 3],\n",
    "    [3, 4, 5]\n",
    "])\n",
    "B = np.array([\n",
    "    [5, 3, 5]\n",
    "])\n",
    "\n",
    "print('A shape:', A.shape)  # (2, 3)\n",
    "print('B shape:', B.shape)  # (1, 3)\n",
    "print()\n",
    "\n",
    "# axis=0: 세로 방향 결합 (행 추가)\n",
    "# A의 밑에 B를 붙임\n",
    "concat_v = np.concatenate([A, B], axis=0)\n",
    "print('axis=0 (수직 결합):')\n",
    "print(concat_v)\n",
    "print('결과 shape:', concat_v.shape)  # (3, 3)\n",
    "print()\n",
    "\n",
    "# axis=1: 가로 방향 결합 (열 추가)\n",
    "# 주의: A는 (2, 3), B는 (1, 3)이므로 axis=1로 결합 불가\n",
    "# 행의 개수가 일치하지 않아 에러 발생\n",
    "# concat_h = np.concatenate([A, B], axis=1)  # ValueError\n",
    "print()\n",
    "\n",
    "# ============================================================================\n",
    "# 7. vstack, hstack - 편리한 결합 함수\n",
    "# ============================================================================\n",
    "'''\n",
    "개념 설명:\n",
    "    - vstack: 수직(vertical) 스택 - axis=0과 동일\n",
    "    - hstack: 수평(horizontal) 스택 - axis=1과 동일\n",
    "    - concatenate보다 직관적인 이름\n",
    "'''\n",
    "\n",
    "a = np.array([1, 2, 3])\n",
    "b = np.array([4, 5, 6])\n",
    "\n",
    "# vstack: 위아래로 쌓기\n",
    "# [[1, 2, 3],\n",
    "#  [4, 5, 6]]\n",
    "vstacked = np.vstack([a, b])\n",
    "print('vstack (수직):')\n",
    "print(vstacked)\n",
    "print('shape:', vstacked.shape)  # (2, 3)\n",
    "print()\n",
    "\n",
    "# hstack: 좌우로 이어붙이기\n",
    "# [1, 2, 3, 4, 5, 6]\n",
    "hstacked = np.hstack([a, b])\n",
    "print('hstack (수평):')\n",
    "print(hstacked)\n",
    "print('shape:', hstacked.shape)  # (6,)\n",
    "print()\n",
    "\n",
    "# ============================================================================\n",
    "# 8. 배열 분할: np.split\n",
    "# ============================================================================\n",
    "'''\n",
    "개념 설명:\n",
    "    - np.split: 하나의 배열을 여러 개의 작은 배열로 분할\n",
    "    - 데이터를 배치로 나누거나 훈련/검증 세트로 분리할 때 사용\n",
    "    \n",
    "분할 방법:\n",
    "    1. 균등 분할: 정수로 개수 지정\n",
    "    2. 인덱스 분할: 특정 위치에서 자르기\n",
    "'''\n",
    "\n",
    "arr = np.arange(12)  # [0 1 2 3 4 5 6 7 8 9 10 11]\n",
    "print('원본 배열:', arr)\n",
    "print()\n",
    "\n",
    "# 균등 분할: 3개의 동일한 크기로 분할\n",
    "# 12개 요소를 3개로 나누면 각 4개씩\n",
    "splits_equal = np.split(arr, 3)\n",
    "print('3개로 균등 분할:', splits_equal)\n",
    "for idx, sub in enumerate(splits_equal, 1):\n",
    "    print(f'{idx}번째 조각:', sub)\n",
    "print()\n",
    "\n",
    "# 인덱스 분할: [0:3], [3:7], [7:]\n",
    "# 인덱스 3과 7에서 자르기\n",
    "splits_idx = np.split(arr, [3, 7])\n",
    "for idx, sub in enumerate(splits_idx, 1):\n",
    "    print(f'{idx}번째 조각:', sub)\n",
    "print()\n",
    "\n",
    "# 2차원 배열 분할\n",
    "arr = np.arange(24).reshape(4, 6)\n",
    "print('2차원 배열 (4×6):')\n",
    "print(arr)\n",
    "print()\n",
    "\n",
    "# axis=0: 행 방향 분할 (가로로 자르기)\n",
    "# 4행을 2개로 나누면 각 2행씩\n",
    "row_splits = np.split(arr, 2, axis=0)\n",
    "print('행 방향 분할 (axis=0):')\n",
    "for i, sub in enumerate(row_splits, 1):\n",
    "    print(f'{i}번째 조각:\\n', sub)\n",
    "print()\n",
    "\n",
    "# axis=1: 열 방향 분할 (세로로 자르기)\n",
    "# 6열을 2개로 나누면 각 3열씩\n",
    "col_splits = np.split(arr, 2, axis=1)\n",
    "print('열 방향 분할 (axis=1):')\n",
    "for i, sub in enumerate(col_splits, 1):\n",
    "    print(f'{i}번째 조각:\\n', sub)\n",
    "print()\n",
    "\n",
    "# ============================================================================\n",
    "# 9. 배열 정렬: np.sort\n",
    "# ============================================================================\n",
    "'''\n",
    "개념 설명:\n",
    "    - np.sort(): 정렬된 복사본 반환 (원본 유지)\n",
    "    - arr.sort(): 원본 배열을 직접 정렬 (in-place)\n",
    "    \n",
    "axis 매개변수:\n",
    "    - axis=0: 각 열을 독립적으로 정렬\n",
    "    - axis=1: 각 행을 독립적으로 정렬\n",
    "    - axis=None: 평탄화 후 전체 정렬\n",
    "'''\n",
    "\n",
    "arr = np.array([3, 1, 2, 5, 4, 2])\n",
    "print('원본:', arr)\n",
    "\n",
    "# 복사본 정렬 (원본 유지)\n",
    "sorted_copy = np.sort(arr)\n",
    "print('정렬된 복사본:', sorted_copy)\n",
    "print('원본 (변경 없음):', arr)\n",
    "print()\n",
    "\n",
    "# 원본 직접 정렬\n",
    "arr.sort()\n",
    "print('원본 정렬 후:', arr)\n",
    "print()\n",
    "\n",
    "# 2차원 배열 정렬\n",
    "arr2 = np.array([\n",
    "    [2, 1, 5],\n",
    "    [3, 2, 1]\n",
    "])\n",
    "print('원본 2차원 배열:')\n",
    "print(arr2)\n",
    "print()\n",
    "\n",
    "# axis=0: 각 열을 독립적으로 정렬\n",
    "# 첫 번째 열 [2, 3] → [2, 3]\n",
    "# 두 번째 열 [1, 2] → [1, 2]\n",
    "# 세 번째 열 [5, 1] → [1, 5]\n",
    "sorted_axis0 = np.sort(arr2, axis=0)\n",
    "print('axis=0 정렬 (열 방향):')\n",
    "print(sorted_axis0)\n",
    "print()\n",
    "\n",
    "# axis=1: 각 행을 독립적으로 정렬\n",
    "# 첫 번째 행 [2, 1, 5] → [1, 2, 5]\n",
    "# 두 번째 행 [3, 2, 1] → [1, 2, 3]\n",
    "sorted_axis1 = np.sort(arr2, axis=1)\n",
    "print('axis=1 정렬 (행 방향):')\n",
    "print(sorted_axis1)\n",
    "print()\n",
    "\n",
    "# axis=None: 평탄화 후 전체 정렬\n",
    "sorted_None = np.sort(arr2, axis=None)\n",
    "print('axis=None 정렬 (전체):')\n",
    "print(sorted_None)  # [1 1 2 2 3 5]\n",
    "print()\n",
    "\n",
    "# ============================================================================\n",
    "# 10. 정렬 인덱스: np.argsort\n",
    "# ============================================================================\n",
    "'''\n",
    "개념 설명:\n",
    "    - np.argsort: 정렬 후의 인덱스를 반환\n",
    "    - 원본 배열의 어떤 요소가 정렬 후 어디로 가는지 알려줌\n",
    "    - 간접 정렬에 유용 (다른 배열을 같은 순서로 정렬할 때)\n",
    "    \n",
    "활용:\n",
    "    - 점수로 정렬하되 이름도 함께 정렬\n",
    "    - 여러 배열을 하나의 기준으로 동시 정렬\n",
    "'''\n",
    "\n",
    "names = np.array(['김철수', '이영희', '박민수', '정수진', '최동욱'])\n",
    "scores = np.array([85, 92, 78, 95, 88])\n",
    "\n",
    "print('원본 데이터:')\n",
    "for name, score in zip(names, scores):\n",
    "    print(f'{name}: {score}점')\n",
    "print()\n",
    "\n",
    "# 점수 기준으로 정렬 인덱스 구하기\n",
    "# argsort는 기본적으로 오름차순이므로 [::-1]로 내림차순 변환\n",
    "sorted_idx = np.argsort(scores)[::-1]\n",
    "print('정렬 인덱스 (점수 높은 순):', sorted_idx)\n",
    "print()\n",
    "\n",
    "# 인덱스를 사용하여 이름과 점수를 함께 정렬\n",
    "print('점수 순위:')\n",
    "for rank, idx in enumerate(sorted_idx, 1):\n",
    "    print(f'{rank}위: {names[idx]} - {scores[idx]}점')\n",
    "\n",
    "# 출력 예시:\n",
    "# 1위: 정수진 - 95점\n",
    "# 2위: 이영희 - 92점\n",
    "# 3위: 최동욱 - 88점\n",
    "# 4위: 김철수 - 85점\n",
    "# 5위: 박민수 - 78점\n",
    "\n",
    "print()\n",
    "\n",
    "# ============================================================================\n",
    "# 핵심 개념 정리\n",
    "# ============================================================================\n",
    "'''\n",
    "1. 차원 조작:\n",
    "   - 추가: np.newaxis, np.expand_dims\n",
    "   - 제거: np.squeeze\n",
    "   - 평탄화: flatten (복사본), ravel (뷰)\n",
    "   \n",
    "2. 배열 결합:\n",
    "   - concatenate: axis 지정하여 결합\n",
    "   - vstack: 수직 결합 (행 추가)\n",
    "   - hstack: 수평 결합 (열 추가)\n",
    "   \n",
    "3. 배열 분할:\n",
    "   - split: 균등 분할 또는 인덱스 분할\n",
    "   - axis로 분할 방향 지정\n",
    "   \n",
    "4. 정렬:\n",
    "   - sort: 값 정렬\n",
    "   - argsort: 인덱스 정렬 (간접 정렬)\n",
    "   \n",
    "5. 기타:\n",
    "   - unique: 고유값 추출\n",
    "   - 다양한 옵션으로 추가 정보 획득\n",
    "'''\n",
    "# ============================================================================"
   ]
  }
 ],
 "metadata": {
  "kernelspec": {
   "display_name": "base",
   "language": "python",
   "name": "python3"
  },
  "language_info": {
   "codemirror_mode": {
    "name": "ipython",
    "version": 3
   },
   "file_extension": ".py",
   "mimetype": "text/x-python",
   "name": "python",
   "nbconvert_exporter": "python",
   "pygments_lexer": "ipython3",
   "version": "3.12.7"
  }
 },
 "nbformat": 4,
 "nbformat_minor": 5
}
