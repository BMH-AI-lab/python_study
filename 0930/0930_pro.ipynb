{
 "cells": [
  {
   "cell_type": "code",
   "execution_count": 5,
   "id": "fced3f2e",
   "metadata": {},
   "outputs": [
    {
     "data": {
      "text/plain": [
       "11"
      ]
     },
     "execution_count": 5,
     "metadata": {},
     "output_type": "execute_result"
    }
   ],
   "source": [
    "def solution(n):\n",
    "    # x는 2부터 시작 (1은 나머지가 0이므로 조건 불가능)\n",
    "    for x in range(2, n+1):\n",
    "    # n을 x로 나눴을 때 나머지가 1이면\n",
    "       if n % x == 1:\n",
    "           return x     # 가장 작은 x를 바로 반환\n",
    "        \n",
    "solution(12)"
   ]
  },
  {
   "cell_type": "code",
   "execution_count": 6,
   "id": "e95a1727",
   "metadata": {},
   "outputs": [
    {
     "data": {
      "text/plain": [
       "1234"
      ]
     },
     "execution_count": 6,
     "metadata": {},
     "output_type": "execute_result"
    }
   ],
   "source": [
    "def solution(s):\n",
    "    #s를 정수로 변경 \n",
    "    answer = int(s)\n",
    "    return answer\n",
    "\n",
    "solution(\"1234\")"
   ]
  },
  {
   "cell_type": "code",
   "execution_count": 9,
   "id": "fbf33c61",
   "metadata": {},
   "outputs": [
    {
     "data": {
      "text/plain": [
       "28"
      ]
     },
     "execution_count": 9,
     "metadata": {},
     "output_type": "execute_result"
    }
   ],
   "source": [
    "def solution(n):\n",
    "    answer = 0\n",
    "    # 1부터 n까지 반복\n",
    "    # 나누어떨어지면 약수\n",
    "    # 합계에 추가\n",
    "    for i in range(1, n + 1):\n",
    "        if n % i == 0:\n",
    "            answer += i\n",
    "    return answer\n",
    "\n",
    "\n",
    "solution(12)"
   ]
  },
  {
   "cell_type": "code",
   "execution_count": 11,
   "id": "423d4f90",
   "metadata": {},
   "outputs": [
    {
     "data": {
      "text/plain": [
       "873211"
      ]
     },
     "execution_count": 11,
     "metadata": {},
     "output_type": "execute_result"
    }
   ],
   "source": [
    "def solution(n):\n",
    "    # 정수를 문자열로 바꾼 뒤 리스트로 변환 → 각 자릿수 추출\n",
    "    digit = list(str(n))\n",
    "    # 각 자릿수를 내림차순으로 정렬 (reverse=True)\n",
    "    digit.sort(reverse =True)\n",
    "    # 정렬된 리스트를 다시 문자열로 합침\n",
    "    sorted_digit = \"\".join(digit)\n",
    "    # 문자열을 정수형으로 변환\n",
    "    return int(sorted_digit)\n",
    "\n",
    "solution(118372)"
   ]
  },
  {
   "cell_type": "code",
   "execution_count": null,
   "id": "3a10d267",
   "metadata": {},
   "outputs": [
    {
     "data": {
      "text/plain": [
       "True"
      ]
     },
     "execution_count": 14,
     "metadata": {},
     "output_type": "execute_result"
    }
   ],
   "source": [
    "def solution(x):\n",
    "    digit_sum = 0\n",
    "    #  하샤드 수: 각 자릿수 숫자의 합으로 나누어떨어지는 자연수\n",
    "    for i in str(x):  # 각 자리 순회\n",
    "        # 각 문자열 더하기(문자는 정수형으로) \n",
    "        digit_sum += int(i)\n",
    "        # x값이 더한 값과 나눠 0이되면 리턴\n",
    "    return x % digit_sum == 0\n",
    "\n",
    "solution(10)"
   ]
  },
  {
   "cell_type": "code",
   "execution_count": null,
   "id": "ba400eb8",
   "metadata": {},
   "outputs": [],
   "source": []
  },
  {
   "cell_type": "code",
   "execution_count": null,
   "id": "cc45b6e0",
   "metadata": {},
   "outputs": [],
   "source": []
  }
 ],
 "metadata": {
  "kernelspec": {
   "display_name": "base",
   "language": "python",
   "name": "python3"
  },
  "language_info": {
   "codemirror_mode": {
    "name": "ipython",
    "version": 3
   },
   "file_extension": ".py",
   "mimetype": "text/x-python",
   "name": "python",
   "nbconvert_exporter": "python",
   "pygments_lexer": "ipython3",
   "version": "3.12.7"
  }
 },
 "nbformat": 4,
 "nbformat_minor": 5
}
