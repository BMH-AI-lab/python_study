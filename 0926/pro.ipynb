{
 "cells": [
  {
   "cell_type": "code",
   "execution_count": 1,
   "id": "986fc0b3",
   "metadata": {},
   "outputs": [
    {
     "data": {
      "text/plain": [
       "1"
      ]
     },
     "execution_count": 1,
     "metadata": {},
     "output_type": "execute_result"
    }
   ],
   "source": [
    "def solution(dots):\n",
    "    dots.sort()\n",
    "    \n",
    "    # 가로 길이 = x좌표 중 최댓값 - 최솟값\n",
    "    # 세로 길이 = y좌표 중 최댓값 - 최솟값\n",
    "    x_min, y_min = dots[0] \n",
    "    x_max, y_max = dots[-1]\n",
    "    \n",
    "    return (x_max - x_min) * (y_max - y_min)\n",
    "\n",
    "solution([[1, 1], [2, 1], [2, 2], [1, 2]])"
   ]
  },
  {
   "cell_type": "code",
   "execution_count": 3,
   "id": "241cd695",
   "metadata": {},
   "outputs": [
    {
     "data": {
      "text/plain": [
       "4"
      ]
     },
     "execution_count": 3,
     "metadata": {},
     "output_type": "execute_result"
    }
   ],
   "source": [
    "def solution(dots):\n",
    "    # [-1, -1], [1, 1]\n",
    "    dots.sort()\n",
    "    # 1, -1\n",
    "    x_min, y_min = dots[0]\n",
    "    # 1, -1\n",
    "    x_max, y_max = dots[-1]\n",
    "    # (1 + 1) * (1 + 1) = 2 * 2 = 4 \n",
    "    return (x_max - x_min) * (y_max - y_min)\n",
    "\n",
    "solution([[-1, -1], [1, 1], [1, -1], [-1, 1]])"
   ]
  },
  {
   "cell_type": "code",
   "execution_count": null,
   "id": "20291612",
   "metadata": {},
   "outputs": [
    {
     "data": {
      "text/plain": [
       "[2, 1]"
      ]
     },
     "execution_count": 8,
     "metadata": {},
     "output_type": "execute_result"
    }
   ],
   "source": [
    "def solution(keyinput, board):\n",
    "    x, y = 0, 0   # 시작 위치\n",
    "    # x와 y의 이동범위\n",
    "    # x와 y의 이동범위가 각각 11이면 11 // 2 = 5, 11 // 2 = 5 \n",
    "    x_limit, y_limit = board[0] // 2, board[1] // 2\n",
    "    \n",
    "    # 시작좌표는 0, 0\n",
    "    for key in keyinput:\n",
    "        # 위 버튼을 누르면 위로 한칸 이동\n",
    "        if key == \"up\" and y < y_limit:\n",
    "            y += 1  \n",
    "        # 아래 버튼을 누르면 아래로 한칸 이동\n",
    "        elif key == \"down\" and y > -y_limit:\n",
    "            y -= 1\n",
    "        # 왼쪽 버튼을 누르면 왼쪽으로 한칸 이동\n",
    "        elif key == \"left\" and x > -x_limit:\n",
    "            x -= 1\n",
    "        # 왼쪽 버튼을 누르면 오른쪽으로 한칸 이동    \n",
    "        elif key == \"right\" and x < x_limit:\n",
    "            x += 1\n",
    "    \n",
    "    return [x, y]\n",
    "\n",
    "# -1, 0, 1, 1, 1 = x = 2, y = 1\n",
    "solution([\"left\", \"right\", \"up\", \"right\", \"right\"], [11, 11])"
   ]
  },
  {
   "cell_type": "code",
   "execution_count": 10,
   "id": "a8af8c31",
   "metadata": {},
   "outputs": [
    {
     "data": {
      "text/plain": [
       "15"
      ]
     },
     "execution_count": 10,
     "metadata": {},
     "output_type": "execute_result"
    }
   ],
   "source": [
    "def solution(numbers):\n",
    "    # 오름차순 정렬\n",
    "    # 4, 2, 1, -3, -5\n",
    "    numbers.sort()    \n",
    "    # 가장 앞의 두개의 수를 곱한 값과 가장 뒤의 두개의 숫자값을 곱해 두개의 숫자를 저장\n",
    "    # 그중 큰값을 출력 max()로\n",
    "    # 4, 2, -5, -3,=  8, 15\n",
    "    answer = max(numbers[0] * numbers[1], numbers[-1] * numbers[-2])\n",
    "    return answer # 15\n",
    "\n",
    "solution([1, 2, -3, 4, -5])"
   ]
  },
  {
   "cell_type": "code",
   "execution_count": 12,
   "id": "c8ff2c7f",
   "metadata": {},
   "outputs": [
    {
     "data": {
      "text/plain": [
       "'4x + 7'"
      ]
     },
     "execution_count": 12,
     "metadata": {},
     "output_type": "execute_result"
    }
   ],
   "source": [
    "def solution(polynomial):\n",
    "    # 문자열을 +로 나눠 구분하기 \n",
    "    terms = polynomial.split(\" + \")\n",
    "    # x가 있는 항만 모아 계수를 더한다\n",
    "    x_sum = sum(int(t[:-1]) if t[:-1] else 1 for t in terms if \"x\" in t)\n",
    "    # 숫자만 있는 항을 모두 더한다\n",
    "    const_sum = sum(int(t) for t in terms if \"x\" not in t)\n",
    "\n",
    "    # 출력 형태를 정한다\n",
    "    # x항도 있고, 상수항도 있는 경우\n",
    "    if x_sum and const_sum:\n",
    "        return f\"{x_sum}x + {const_sum}\" if x_sum > 1 else f\"x + {const_sum}\"\n",
    "    # x항만 있고, 상수항은 없는 경우\n",
    "    if x_sum:\n",
    "        return f\"{x_sum}x\" if x_sum > 1 else \"x\"\n",
    "    # 상수항만 있으면 문자로 변환\n",
    "    else:\n",
    "        return str(const_sum)\n",
    "    \n",
    "solution(\"3x + 7 + x\")"
   ]
  },
  {
   "cell_type": "code",
   "execution_count": 13,
   "id": "354390de",
   "metadata": {},
   "outputs": [
    {
     "data": {
      "text/plain": [
       "37"
      ]
     },
     "execution_count": 13,
     "metadata": {},
     "output_type": "execute_result"
    }
   ],
   "source": [
    "def solution(my_string):\n",
    "    \n",
    "    for i in my_string:\n",
    "        # 알파벳이 있는지 확인 \n",
    "        if i.isalpha():\n",
    "            # 알파벳들을 공백으로 변환\n",
    "            my_string = my_string.replace(i, ' ')\n",
    "    # 남은 문자들을 구분        \n",
    "    my_string = my_string.split()\n",
    "    # map()을 통해 리스트의 각 요소에 int() 함수를 적용\n",
    "    return sum(list(map(int, my_string)))\n",
    "\n",
    "solution(\"aAb1B2cC34oOp\")"
   ]
  },
  {
   "cell_type": "code",
   "execution_count": null,
   "id": "896b1cc4",
   "metadata": {},
   "outputs": [
    {
     "data": {
      "text/plain": [
       "13"
      ]
     },
     "execution_count": 14,
     "metadata": {},
     "output_type": "execute_result"
    }
   ],
   "source": [
    "def solution(sides):\n",
    "    # 11 + 7 - 4  - 1 = 13 \n",
    "    return sides[0] + sides[1] - abs(sides[0] - sides[1]) - 1\n",
    "\n",
    "solution([11, 7])"
   ]
  },
  {
   "cell_type": "code",
   "execution_count": 17,
   "id": "9627cf4b",
   "metadata": {},
   "outputs": [
    {
     "data": {
      "text/plain": [
       "2"
      ]
     },
     "execution_count": 17,
     "metadata": {},
     "output_type": "execute_result"
    }
   ],
   "source": [
    "def solution(spell, dic):\n",
    "    for d in dic:\n",
    "        # 알파벳 집합 spell에 있는 알파벳이 dic에 전부 있는지 확인\n",
    "        if not set(spell) - set(d):\n",
    "            # 있으면 1 출력\n",
    "            return 1\n",
    "    # 없으면 2\n",
    "    return 2\n",
    "\n",
    "solution([\"p\", \"o\", \"s\"], [\"sod\", \"eocd\", \"qixm\", \"adio\", \"soo\"])"
   ]
  },
  {
   "cell_type": "code",
   "execution_count": null,
   "id": "3382a867",
   "metadata": {},
   "outputs": [],
   "source": []
  }
 ],
 "metadata": {
  "kernelspec": {
   "display_name": "base",
   "language": "python",
   "name": "python3"
  },
  "language_info": {
   "codemirror_mode": {
    "name": "ipython",
    "version": 3
   },
   "file_extension": ".py",
   "mimetype": "text/x-python",
   "name": "python",
   "nbconvert_exporter": "python",
   "pygments_lexer": "ipython3",
   "version": "3.12.7"
  }
 },
 "nbformat": 4,
 "nbformat_minor": 5
}
